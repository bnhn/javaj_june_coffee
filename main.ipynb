{
 "cells": [
  {
   "cell_type": "code",
   "execution_count": 1,
   "metadata": {},
   "outputs": [],
   "source": [
    "import pandas as pd\n",
    "import matplotlib.pyplot as plt\n",
    "import numpy as np\n",
    "import seaborn as sns\n",
    "\n",
    "from IPython.core.interactiveshell import InteractiveShell\n",
    "\n",
    "InteractiveShell.ast_node_interactivity = \"all\"\n",
    "\n",
    "pd.set_option(\"display.max_colwidth\", 500)\n",
    "pd.set_option(\"display.max_columns\", 500)\n",
    "pd.set_option(\"display.max_rows\", 500)\n",
    "\n",
    "SEED = 42"
   ]
  },
  {
   "cell_type": "code",
   "execution_count": 2,
   "metadata": {},
   "outputs": [],
   "source": [
    "coffee_df = pd.read_csv('dataset/coffee.csv')"
   ]
  },
  {
   "cell_type": "code",
   "execution_count": 3,
   "metadata": {},
   "outputs": [
    {
     "data": {
      "text/html": [
       "<div>\n",
       "<style scoped>\n",
       "    .dataframe tbody tr th:only-of-type {\n",
       "        vertical-align: middle;\n",
       "    }\n",
       "\n",
       "    .dataframe tbody tr th {\n",
       "        vertical-align: top;\n",
       "    }\n",
       "\n",
       "    .dataframe thead th {\n",
       "        text-align: right;\n",
       "    }\n",
       "</style>\n",
       "<table border=\"1\" class=\"dataframe\">\n",
       "  <thead>\n",
       "    <tr style=\"text-align: right;\">\n",
       "      <th></th>\n",
       "      <th>Region</th>\n",
       "      <th>Place name</th>\n",
       "      <th>Place type</th>\n",
       "      <th>Rating</th>\n",
       "      <th>Reviews</th>\n",
       "      <th>Price</th>\n",
       "      <th>Delivery option</th>\n",
       "      <th>Dine in option</th>\n",
       "      <th>Takeout option</th>\n",
       "    </tr>\n",
       "  </thead>\n",
       "  <tbody>\n",
       "    <tr>\n",
       "      <th>0</th>\n",
       "      <td>C</td>\n",
       "      <td>Dim Kavu</td>\n",
       "      <td>Others</td>\n",
       "      <td>4.6</td>\n",
       "      <td>206.0</td>\n",
       "      <td>$$</td>\n",
       "      <td>False</td>\n",
       "      <td>NaN</td>\n",
       "      <td>NaN</td>\n",
       "    </tr>\n",
       "    <tr>\n",
       "      <th>1</th>\n",
       "      <td>C</td>\n",
       "      <td>Коферум</td>\n",
       "      <td>Cafe</td>\n",
       "      <td>5.0</td>\n",
       "      <td>24.0</td>\n",
       "      <td>$$</td>\n",
       "      <td>False</td>\n",
       "      <td>NaN</td>\n",
       "      <td>True</td>\n",
       "    </tr>\n",
       "    <tr>\n",
       "      <th>2</th>\n",
       "      <td>C</td>\n",
       "      <td>Кофейня Світ Чаю</td>\n",
       "      <td>Coffee shop</td>\n",
       "      <td>5.0</td>\n",
       "      <td>11.0</td>\n",
       "      <td>$$</td>\n",
       "      <td>False</td>\n",
       "      <td>NaN</td>\n",
       "      <td>True</td>\n",
       "    </tr>\n",
       "    <tr>\n",
       "      <th>3</th>\n",
       "      <td>C</td>\n",
       "      <td>Кофейня Starcoff</td>\n",
       "      <td>Coffee shop</td>\n",
       "      <td>4.4</td>\n",
       "      <td>331.0</td>\n",
       "      <td>$$</td>\n",
       "      <td>False</td>\n",
       "      <td>True</td>\n",
       "      <td>True</td>\n",
       "    </tr>\n",
       "    <tr>\n",
       "      <th>4</th>\n",
       "      <td>C</td>\n",
       "      <td>Кофейня \"Friend Zone\"</td>\n",
       "      <td>Coffee shop</td>\n",
       "      <td>5.0</td>\n",
       "      <td>12.0</td>\n",
       "      <td>$$</td>\n",
       "      <td>False</td>\n",
       "      <td>True</td>\n",
       "      <td>True</td>\n",
       "    </tr>\n",
       "  </tbody>\n",
       "</table>\n",
       "</div>"
      ],
      "text/plain": [
       "  Region             Place name   Place type  Rating  Reviews Price   \n",
       "0      C               Dim Kavu       Others     4.6    206.0    $$  \\\n",
       "1      C                Коферум         Cafe     5.0     24.0    $$   \n",
       "2      C       Кофейня Світ Чаю  Coffee shop     5.0     11.0    $$   \n",
       "3      C       Кофейня Starcoff  Coffee shop     4.4    331.0    $$   \n",
       "4      C  Кофейня \"Friend Zone\"  Coffee shop     5.0     12.0    $$   \n",
       "\n",
       "   Delivery option Dine in option Takeout option  \n",
       "0            False            NaN            NaN  \n",
       "1            False            NaN           True  \n",
       "2            False            NaN           True  \n",
       "3            False           True           True  \n",
       "4            False           True           True  "
      ]
     },
     "execution_count": 3,
     "metadata": {},
     "output_type": "execute_result"
    },
    {
     "data": {
      "text/plain": [
       "Region              object\n",
       "Place name          object\n",
       "Place type          object\n",
       "Rating             float64\n",
       "Reviews            float64\n",
       "Price               object\n",
       "Delivery option       bool\n",
       "Dine in option      object\n",
       "Takeout option      object\n",
       "dtype: object"
      ]
     },
     "execution_count": 3,
     "metadata": {},
     "output_type": "execute_result"
    }
   ],
   "source": [
    "coffee_df.head()\n",
    "coffee_df.dtypes"
   ]
  },
  {
   "cell_type": "code",
   "execution_count": 4,
   "metadata": {},
   "outputs": [
    {
     "data": {
      "text/plain": [
       "array(['C', 'J', 'F', 'B', 'A', 'E', 'D', 'G', 'I', 'H'], dtype=object)"
      ]
     },
     "execution_count": 4,
     "metadata": {},
     "output_type": "execute_result"
    },
    {
     "data": {
      "text/plain": [
       "Region\n",
       "C    20\n",
       "J    20\n",
       "F    20\n",
       "B    20\n",
       "A    20\n",
       "E    20\n",
       "D    20\n",
       "G    20\n",
       "I    20\n",
       "H    20\n",
       "Name: count, dtype: int64"
      ]
     },
     "execution_count": 4,
     "metadata": {},
     "output_type": "execute_result"
    },
    {
     "data": {
      "text/plain": [
       "0"
      ]
     },
     "execution_count": 4,
     "metadata": {},
     "output_type": "execute_result"
    }
   ],
   "source": [
    "coffee_df['Region'].unique()\n",
    "coffee_df['Region'].value_counts()\n",
    "coffee_df['Region'].isna().sum()"
   ]
  },
  {
   "cell_type": "code",
   "execution_count": 5,
   "metadata": {},
   "outputs": [
    {
     "data": {
      "text/plain": [
       "187"
      ]
     },
     "execution_count": 5,
     "metadata": {},
     "output_type": "execute_result"
    },
    {
     "data": {
      "text/plain": [
       "Place name\n",
       "Dim Kavy                                                        4\n",
       "coffee House                                                    3\n",
       "Coffee House                                                    3\n",
       "MY COFFEE                                                       2\n",
       "Lviv Coffee Manufacture                                         2\n",
       "Svit Kavy                                                       2\n",
       "Kaffa                                                           2\n",
       "SV Кафе                                                         2\n",
       "Sweeter                                                         2\n",
       "Dva Gusya Pizza                                                 1\n",
       "Антикафе 7/9 | Кривой Рог                                       1\n",
       "Чай Кофе                                                        1\n",
       "Coffee Craft                                                    1\n",
       "ЕТУАЛЬ КАФЕ                                                     1\n",
       "Coffee Break                                                    1\n",
       "Dim Kavu                                                        1\n",
       "Offshore cafe                                                   1\n",
       "Франс.уа на Пушкина                                             1\n",
       "Tea, Coffee Shop                                                1\n",
       "BON BON                                                         1\n",
       "The Spiceroom                                                   1\n",
       "Магазин AROMA coffee&tea shop                                   1\n",
       "coffeeok                                                        1\n",
       "\"®КАВА БАЗА®\"                                                   1\n",
       "Coffee in Action                                                1\n",
       "Горький Espresso Bar                                            1\n",
       "Дикий Койот кафе                                                1\n",
       "Hunter's yard                                                   1\n",
       "Crema Caffe Кривий Ріг                                          1\n",
       "Chekhovych                                                      1\n",
       "Na bambetli                                                     1\n",
       "Golden Ducat                                                    1\n",
       "Lviv coffee manufacture (Valova)                                1\n",
       "SDV Coffee                                                      1\n",
       "Fixage                                                          1\n",
       "Lʹvivsʹka Manufaktura Kavy                                      1\n",
       "Вірменка                                                        1\n",
       "Saturdays Coffee Цирк                                           1\n",
       "Svit Kavy (Rynok Sq.)                                           1\n",
       "Cuba Coffee Brew - Bar                                          1\n",
       "Cafe 1                                                          1\n",
       "Liberty                                                         1\n",
       "Lviv Croissants                                                 1\n",
       "Rondo Cafe                                                      1\n",
       "Karmel Coffee Shop                                              1\n",
       "I Feel Espresso Bar                                             1\n",
       "I want coffee                                                   1\n",
       "Кофейня My Coffee                                               1\n",
       "Кафе Бутик                                                      1\n",
       "ONE LOVE espresso bar                                           1\n",
       "Progress Cafe                                                   1\n",
       "Coffeelaktika coffee studio                                     1\n",
       "Mr. Bourbon                                                     1\n",
       "DoubleDecker Cake and Coffee                                    1\n",
       "Бамбук                                                          1\n",
       "I feel city cafe                                                1\n",
       "Coffee Secrets                                                  1\n",
       "Horizontal kaffee                                               1\n",
       "Coffee&Cake, Game zone PS4                                      1\n",
       "Zeffirino                                                       1\n",
       "Coffee Life                                                     1\n",
       "The sisters                                                     1\n",
       "\"Франс.уа\" кофейня-пекарня                                      1\n",
       "Tsikava Kava                                                    1\n",
       "Try Bobry                                                       1\n",
       "Pa-si-ju Кафе                                                   1\n",
       "Колибри                                                         1\n",
       "Artist                                                          1\n",
       "Dream Cafe                                                      1\n",
       "РУТА КАФЕ ПП КУЛІЧЕНКО К.І.                                     1\n",
       "Ob'yektna Kava                                                  1\n",
       "KOFEiN®                                                         1\n",
       "Caffissimo, КОФЕЙНЯ                                             1\n",
       "Буду Кофе                                                       1\n",
       "Coffeelaktika                                                   1\n",
       "Жарим Кофе в Одессе. Обжарочная №4                              1\n",
       "Matílda cafe                                                    1\n",
       "TAKAVA Coffee-Buffet                                            1\n",
       "The Blue Cup Coffee Shop                                        1\n",
       "LION coffee                                                     1\n",
       "London                                                          1\n",
       "PRO Coffee                                                      1\n",
       "RIGHT coffee bar                                                1\n",
       "Espressoholic                                                   1\n",
       "Matin Desserts & Coffee                                         1\n",
       "КофеТочка Харьков - интернет-магазин кофе и кофеоборудования    1\n",
       "Workshop coffee                                                 1\n",
       "Мастерская Кофе                                                 1\n",
       "Kofeyin                                                         1\n",
       "Dom Kofe                                                        1\n",
       "Cats and coffee | Киці та кава                                  1\n",
       "CoffeeDoor Brewbar & Coffeeshop                                 1\n",
       "Dom Kofe, Mah.                                                  1\n",
       "Kava U Shafi                                                    1\n",
       "Coffee break ZAVIDA                                             1\n",
       "Anso Coffee                                                     1\n",
       "Coffeetory Кофетория                                            1\n",
       "\"Точка кофе\"                                                    1\n",
       "KOFEiN                                                          1\n",
       "Perfect Coffee, КАВ'ЯРНЯ                                        1\n",
       "Misceva kavyarnya                                               1\n",
       "Dzhi                                                            1\n",
       "Gangster coffee shop                                            1\n",
       "Crema Caffe Poltava                                             1\n",
       "COFFBOY                                                         1\n",
       "Wake Up Coffee                                                  1\n",
       "Lviv Handmade Chocolate                                         1\n",
       "ПЕРША ДЕГУСТАЦІЙНА ЗАЛА КАВИ \"GANGSTER_COFFEE SHOP 3\"           1\n",
       "Aroma kava                                                      1\n",
       "Koffishka                                                       1\n",
       "ЗАКУТОК - coffee hookah point                                   1\n",
       "CoffeePot                                                       1\n",
       "Coffee 66                                                       1\n",
       "Godshot Coffee                                                  1\n",
       "Verona                                                          1\n",
       "Prostir.coffee Таврик                                           1\n",
       "I love coffee                                                   1\n",
       "Your Coffee                                                     1\n",
       "Buns Brew Bar                                                   1\n",
       "CoffeeOk                                                        1\n",
       "Kavun                                                           1\n",
       "Кофейня Світ Чаю                                                1\n",
       "Кофейня Starcoff                                                1\n",
       "Кофейня \"Friend Zone\"                                           1\n",
       "Racers Coffee Shop                                              1\n",
       "Займемся Кофе                                                   1\n",
       "Кофейня Rit Rit                                                 1\n",
       "Кав'ярня My coffee                                              1\n",
       "LENЬ. Coffee & desserts.                                        1\n",
       "SOVA COFFEE                                                     1\n",
       "Кава Тайм                                                       1\n",
       "Skver кафе                                                      1\n",
       "Кафе на Георгіївській                                           1\n",
       "Khosper                                                         1\n",
       "Lekontina Шоколадна Майстерня                                   1\n",
       "Lecker                                                          1\n",
       "Veterano Coffee                                                 1\n",
       "VEIN                                                            1\n",
       "Coffee Drive                                                    1\n",
       "G COFFEE                                                        1\n",
       "Дом Кофе                                                        1\n",
       "Кофе с Совой                                                    1\n",
       "Pasadena Coffee                                                 1\n",
       "Столовая BUFET                                                  1\n",
       "Comeback coffee & more                                          1\n",
       "Coffeelab Roasters                                              1\n",
       "Cholla & Joshua                                                 1\n",
       "Dobra Kava                                                      1\n",
       "Смажимо каву в Одесі. Обсмажувальна №2                          1\n",
       "Traveler`s Coffee                                               1\n",
       "Кофе База Одесса | Coffee Baza                                  1\n",
       "We Roast Coffee in Odessa                                       1\n",
       "Burso_Coffee                                                    1\n",
       "Foundation Coffee Roasters                                      1\n",
       "Red Cup Coffee Roasters                                         1\n",
       "Krem Kafe                                                       1\n",
       "FAB.                                                            1\n",
       "Zheto                                                           1\n",
       "Eclair&Coffee                                                   1\n",
       "Coffee Room                                                     1\n",
       "Смажимо каву. Обсмажувальна N3                                  1\n",
       "kofevarka.odessa.ua                                             1\n",
       "Коферум                                                         1\n",
       "Svit kavy                                                       1\n",
       "LittleTalk Coffee                                               1\n",
       "Кофе В Херсоне                                                  1\n",
       "Kaffe \"Na Peskah\"                                               1\n",
       "Prostir.coffee                                                  1\n",
       "Don Marco coffee shop                                           1\n",
       "HOTCUP                                                          1\n",
       "Koko                                                            1\n",
       "Coffee house                                                    1\n",
       "Coffeehouse Na Poshtovomu Provulku                              1\n",
       "Just Coffee Kherson                                             1\n",
       "Don Marco                                                       1\n",
       "Green house                                                     1\n",
       "Kofemolka                                                       1\n",
       "Art Coffee                                                      1\n",
       "Art Coffee - Інтернет Магазин Кави та Чаю                       1\n",
       "Coffeeshop GRANO                                                1\n",
       "Мастерская \"Кофе на разлив\"                                     1\n",
       "Coffeeсть                                                       1\n",
       "The Boiler Room                                                 1\n",
       "Интернет-магазин \"Kava-e\"                                       1\n",
       "Jays : Coffee Brewers                                           1\n",
       "Caffisimo                                                       1\n",
       "О...МАРАТ КАФЕ ПП ПОЛІСТЕП                                      1\n",
       "Name: count, dtype: int64"
      ]
     },
     "execution_count": 5,
     "metadata": {},
     "output_type": "execute_result"
    },
    {
     "data": {
      "text/plain": [
       "0"
      ]
     },
     "execution_count": 5,
     "metadata": {},
     "output_type": "execute_result"
    }
   ],
   "source": [
    "len(coffee_df['Place name'].unique())\n",
    "coffee_df['Place name'].value_counts()\n",
    "coffee_df['Place name'].isna().sum()"
   ]
  },
  {
   "cell_type": "code",
   "execution_count": 6,
   "metadata": {},
   "outputs": [
    {
     "data": {
      "text/plain": [
       "4"
      ]
     },
     "execution_count": 6,
     "metadata": {},
     "output_type": "execute_result"
    },
    {
     "data": {
      "text/plain": [
       "Place type\n",
       "Coffee shop     97\n",
       "Cafe            58\n",
       "Others          25\n",
       "Espresso bar    20\n",
       "Name: count, dtype: int64"
      ]
     },
     "execution_count": 6,
     "metadata": {},
     "output_type": "execute_result"
    },
    {
     "data": {
      "text/plain": [
       "0"
      ]
     },
     "execution_count": 6,
     "metadata": {},
     "output_type": "execute_result"
    }
   ],
   "source": [
    "len(coffee_df['Place type'].unique())\n",
    "coffee_df['Place type'].value_counts()\n",
    "coffee_df['Place type'].isna().sum()"
   ]
  },
  {
   "cell_type": "code",
   "execution_count": 7,
   "metadata": {},
   "outputs": [
    {
     "data": {
      "text/plain": [
       "13"
      ]
     },
     "execution_count": 7,
     "metadata": {},
     "output_type": "execute_result"
    },
    {
     "data": {
      "text/plain": [
       "Rating\n",
       "4.6    47\n",
       "4.7    39\n",
       "4.9    25\n",
       "4.5    22\n",
       "5.0    21\n",
       "4.8    18\n",
       "4.4    12\n",
       "4.3     6\n",
       "4.2     2\n",
       "4.1     2\n",
       "4.0     2\n",
       "3.9     2\n",
       "Name: count, dtype: int64"
      ]
     },
     "execution_count": 7,
     "metadata": {},
     "output_type": "execute_result"
    },
    {
     "data": {
      "text/plain": [
       "2"
      ]
     },
     "execution_count": 7,
     "metadata": {},
     "output_type": "execute_result"
    }
   ],
   "source": [
    "len(coffee_df['Rating'].unique())\n",
    "coffee_df['Rating'].value_counts()\n",
    "coffee_df['Rating'].isna().sum()"
   ]
  },
  {
   "cell_type": "code",
   "execution_count": 8,
   "metadata": {},
   "outputs": [
    {
     "data": {
      "text/plain": [
       "164"
      ]
     },
     "execution_count": 8,
     "metadata": {},
     "output_type": "execute_result"
    },
    {
     "data": {
      "text/plain": [
       "Reviews\n",
       "10.0       5\n",
       "15.0       4\n",
       "18.0       4\n",
       "14.0       3\n",
       "26.0       3\n",
       "38.0       3\n",
       "40.0       3\n",
       "12.0       3\n",
       "156.0      2\n",
       "341.0      2\n",
       "121.0      2\n",
       "185.0      2\n",
       "21.0       2\n",
       "64.0       2\n",
       "304.0      2\n",
       "24.0       2\n",
       "39.0       2\n",
       "37.0       2\n",
       "124.0      2\n",
       "118.0      2\n",
       "702.0      2\n",
       "112.0      2\n",
       "11.0       2\n",
       "33.0       1\n",
       "116.0      1\n",
       "2013.0     1\n",
       "1051.0     1\n",
       "947.0      1\n",
       "1439.0     1\n",
       "740.0      1\n",
       "699.0      1\n",
       "49.0       1\n",
       "327.0      1\n",
       "342.0      1\n",
       "190.0      1\n",
       "401.0      1\n",
       "455.0      1\n",
       "479.0      1\n",
       "963.0      1\n",
       "1758.0     1\n",
       "1820.0     1\n",
       "1509.0     1\n",
       "998.0      1\n",
       "321.0      1\n",
       "157.0      1\n",
       "2236.0     1\n",
       "1570.0     1\n",
       "16.0       1\n",
       "1284.0     1\n",
       "1199.0     1\n",
       "363.0      1\n",
       "2873.0     1\n",
       "1009.0     1\n",
       "778.0      1\n",
       "102.0      1\n",
       "646.0      1\n",
       "9.0        1\n",
       "261.0      1\n",
       "96.0       1\n",
       "642.0      1\n",
       "1529.0     1\n",
       "400.0      1\n",
       "403.0      1\n",
       "189.0      1\n",
       "2914.0     1\n",
       "1394.0     1\n",
       "22.0       1\n",
       "512.0      1\n",
       "3.0        1\n",
       "2381.0     1\n",
       "551.0      1\n",
       "222.0      1\n",
       "289.0      1\n",
       "268.0      1\n",
       "830.0      1\n",
       "110.0      1\n",
       "1300.0     1\n",
       "514.0      1\n",
       "35.0       1\n",
       "1633.0     1\n",
       "824.0      1\n",
       "858.0      1\n",
       "1281.0     1\n",
       "1737.0     1\n",
       "2319.0     1\n",
       "282.0      1\n",
       "170.0      1\n",
       "693.0      1\n",
       "373.0      1\n",
       "155.0      1\n",
       "1908.0     1\n",
       "206.0      1\n",
       "1517.0     1\n",
       "716.0      1\n",
       "898.0      1\n",
       "1195.0     1\n",
       "347.0      1\n",
       "17.0       1\n",
       "1376.0     1\n",
       "226.0      1\n",
       "726.0      1\n",
       "569.0      1\n",
       "1345.0     1\n",
       "485.0      1\n",
       "279.0      1\n",
       "241.0      1\n",
       "46.0       1\n",
       "587.0      1\n",
       "860.0      1\n",
       "329.0      1\n",
       "103.0      1\n",
       "806.0      1\n",
       "331.0      1\n",
       "367.0      1\n",
       "200.0      1\n",
       "292.0      1\n",
       "31.0       1\n",
       "125.0      1\n",
       "609.0      1\n",
       "459.0      1\n",
       "172.0      1\n",
       "234.0      1\n",
       "136.0      1\n",
       "166.0      1\n",
       "1596.0     1\n",
       "1785.0     1\n",
       "593.0      1\n",
       "1201.0     1\n",
       "813.0      1\n",
       "113.0      1\n",
       "122.0      1\n",
       "1415.0     1\n",
       "47.0       1\n",
       "2141.0     1\n",
       "36.0       1\n",
       "202.0      1\n",
       "111.0      1\n",
       "335.0      1\n",
       "789.0      1\n",
       "150.0      1\n",
       "80.0       1\n",
       "17937.0    1\n",
       "2931.0     1\n",
       "2089.0     1\n",
       "2700.0     1\n",
       "1656.0     1\n",
       "67.0       1\n",
       "167.0      1\n",
       "275.0      1\n",
       "27.0       1\n",
       "598.0      1\n",
       "97.0       1\n",
       "98.0       1\n",
       "132.0      1\n",
       "223.0      1\n",
       "1482.0     1\n",
       "385.0      1\n",
       "414.0      1\n",
       "440.0      1\n",
       "488.0      1\n",
       "807.0      1\n",
       "837.0      1\n",
       "599.0      1\n",
       "Name: count, dtype: int64"
      ]
     },
     "execution_count": 8,
     "metadata": {},
     "output_type": "execute_result"
    },
    {
     "data": {
      "text/plain": [
       "2"
      ]
     },
     "execution_count": 8,
     "metadata": {},
     "output_type": "execute_result"
    }
   ],
   "source": [
    "len(coffee_df['Reviews'].unique())\n",
    "coffee_df['Reviews'].value_counts()\n",
    "coffee_df['Reviews'].isna().sum()"
   ]
  },
  {
   "cell_type": "code",
   "execution_count": 9,
   "metadata": {},
   "outputs": [
    {
     "data": {
      "text/plain": [
       "3"
      ]
     },
     "execution_count": 9,
     "metadata": {},
     "output_type": "execute_result"
    },
    {
     "data": {
      "text/plain": [
       "Price\n",
       "$$     194\n",
       "$$$      4\n",
       "$        2\n",
       "Name: count, dtype: int64"
      ]
     },
     "execution_count": 9,
     "metadata": {},
     "output_type": "execute_result"
    },
    {
     "data": {
      "text/plain": [
       "0"
      ]
     },
     "execution_count": 9,
     "metadata": {},
     "output_type": "execute_result"
    }
   ],
   "source": [
    "len(coffee_df['Price'].unique())\n",
    "coffee_df['Price'].value_counts()\n",
    "coffee_df['Price'].isna().sum()"
   ]
  },
  {
   "cell_type": "code",
   "execution_count": 10,
   "metadata": {},
   "outputs": [
    {
     "data": {
      "text/plain": [
       "2"
      ]
     },
     "execution_count": 10,
     "metadata": {},
     "output_type": "execute_result"
    },
    {
     "data": {
      "text/plain": [
       "Delivery option\n",
       "False    165\n",
       "True      35\n",
       "Name: count, dtype: int64"
      ]
     },
     "execution_count": 10,
     "metadata": {},
     "output_type": "execute_result"
    },
    {
     "data": {
      "text/plain": [
       "0"
      ]
     },
     "execution_count": 10,
     "metadata": {},
     "output_type": "execute_result"
    }
   ],
   "source": [
    "len(coffee_df['Delivery option'].unique())\n",
    "coffee_df['Delivery option'].value_counts()\n",
    "coffee_df['Delivery option'].isna().sum()"
   ]
  },
  {
   "cell_type": "code",
   "execution_count": 11,
   "metadata": {},
   "outputs": [
    {
     "data": {
      "text/plain": [
       "array([nan, True], dtype=object)"
      ]
     },
     "execution_count": 11,
     "metadata": {},
     "output_type": "execute_result"
    },
    {
     "data": {
      "text/plain": [
       "Dine in option\n",
       "True    140\n",
       "Name: count, dtype: int64"
      ]
     },
     "execution_count": 11,
     "metadata": {},
     "output_type": "execute_result"
    },
    {
     "data": {
      "text/plain": [
       "60"
      ]
     },
     "execution_count": 11,
     "metadata": {},
     "output_type": "execute_result"
    },
    {
     "data": {
      "text/plain": [
       "dtype('O')"
      ]
     },
     "execution_count": 11,
     "metadata": {},
     "output_type": "execute_result"
    },
    {
     "data": {
      "text/plain": [
       "0.3"
      ]
     },
     "execution_count": 11,
     "metadata": {},
     "output_type": "execute_result"
    }
   ],
   "source": [
    "coffee_df['Dine in option'].unique()\n",
    "coffee_df['Dine in option'].value_counts()\n",
    "coffee_df['Dine in option'].isna().sum()\n",
    "coffee_df['Dine in option'].dtype\n",
    "60/(60+140)"
   ]
  },
  {
   "cell_type": "code",
   "execution_count": 12,
   "metadata": {},
   "outputs": [
    {
     "data": {
      "text/plain": [
       "array([nan, True], dtype=object)"
      ]
     },
     "execution_count": 12,
     "metadata": {},
     "output_type": "execute_result"
    },
    {
     "data": {
      "text/plain": [
       "Takeout option\n",
       "True    144\n",
       "Name: count, dtype: int64"
      ]
     },
     "execution_count": 12,
     "metadata": {},
     "output_type": "execute_result"
    },
    {
     "data": {
      "text/plain": [
       "56"
      ]
     },
     "execution_count": 12,
     "metadata": {},
     "output_type": "execute_result"
    },
    {
     "data": {
      "text/plain": [
       "dtype('O')"
      ]
     },
     "execution_count": 12,
     "metadata": {},
     "output_type": "execute_result"
    },
    {
     "data": {
      "text/plain": [
       "0.28"
      ]
     },
     "execution_count": 12,
     "metadata": {},
     "output_type": "execute_result"
    }
   ],
   "source": [
    "coffee_df['Takeout option'].unique()\n",
    "coffee_df['Takeout option'].value_counts()\n",
    "coffee_df['Takeout option'].isna().sum()\n",
    "coffee_df['Takeout option'].dtype\n",
    "56/(56+144)"
   ]
  },
  {
   "attachments": {},
   "cell_type": "markdown",
   "metadata": {},
   "source": [
    "## 1 (a - b) Checking the values of each column\n",
    "| Column Name | Expected Value Type | Observed Value Type | Assessment | No. Missing Values | Remark |\n",
    "|:---------:|:-------------------:|:-------------------:|:-------------:|:---------:|:-------:|\n",
    "| Region | Nominal | Nominal | Matches | 0 | Can be converted to categorical dtype for efficiency |\n",
    "| Place name | Nominal | Nominal | Matches | 0 | |\n",
    "| Place type | Nominal | Nominal | Matches | 0 | Can be converted to categorical dtype\n",
    "| Rating | Ordinal | Ordinal | Matches | 2 | |\n",
    "| Reviews | Nominal | Ordinal | Not a match | 2 | |\n",
    "| Price | Ordinal | Ordinal | Matches | 0 | Can be converted to categorical dtype |\n",
    "| Delivery Option | Nominal | Nominal | Matches | 0 | |\n",
    "| Dine In Option | Nominal | Nominal | Matches | 60 | Covert to bool dtype |\n",
    "| Takeaway Option | Nominal | Nominal | Matches | 56 | Convert to bool dtype|\n",
    "\n",
    "### Summary\n",
    "#### Here are the findings after observation\n",
    "- The Reviews column did not match the given description\n",
    "- Both Reviews and Rating columns had 2 missing values each\n",
    "- The Dine In and Takeaway columns have ~30% of values missing while all non-missing values are True. This is likely due to customers simply leaving the selection blank  "
   ]
  },
  {
   "attachments": {},
   "cell_type": "markdown",
   "metadata": {},
   "source": [
    "## 1 (c) Cleaning the data\n",
    "- Filling missing values:\n",
    "    + Missing values in **Rating** column were filled with **_0_**\n",
    "    + Missing values in **Dine in** and **Takeaway** columns were filled with **_False_**\n",
    "    + Missing values in **Reviews** column were filled with the median value from the non-missing values\n",
    "    + **Region**, **Place type**, and **Price** columns were converted to the Pandas <u>**_categorical_**</u> dtype\n",
    "    + All other columns were left \n",
    "    \n",
    "    ### **NB**: \n",
    "    With the Reviews column, including the missing values (NaN set to 0) in the initial computation of the median \n",
    "    results in slightly different medians for the cleaned and uncleaned datasets. \n",
    "    \n",
    "    Dropping the missing values before computation results in the same median values for both datasets. \n",
    "    \n",
    "    Therefore it is recommended to drop the missing values before computation."
   ]
  },
  {
   "cell_type": "code",
   "execution_count": 13,
   "metadata": {},
   "outputs": [
    {
     "data": {
      "text/html": [
       "<div>\n",
       "<style scoped>\n",
       "    .dataframe tbody tr th:only-of-type {\n",
       "        vertical-align: middle;\n",
       "    }\n",
       "\n",
       "    .dataframe tbody tr th {\n",
       "        vertical-align: top;\n",
       "    }\n",
       "\n",
       "    .dataframe thead th {\n",
       "        text-align: right;\n",
       "    }\n",
       "</style>\n",
       "<table border=\"1\" class=\"dataframe\">\n",
       "  <thead>\n",
       "    <tr style=\"text-align: right;\">\n",
       "      <th></th>\n",
       "      <th>Region</th>\n",
       "      <th>Place name</th>\n",
       "      <th>Place type</th>\n",
       "      <th>Rating</th>\n",
       "      <th>Reviews</th>\n",
       "      <th>Price</th>\n",
       "      <th>Delivery option</th>\n",
       "      <th>Dine in option</th>\n",
       "      <th>Takeout option</th>\n",
       "    </tr>\n",
       "  </thead>\n",
       "  <tbody>\n",
       "    <tr>\n",
       "      <th>0</th>\n",
       "      <td>C</td>\n",
       "      <td>Dim Kavu</td>\n",
       "      <td>Others</td>\n",
       "      <td>4.6</td>\n",
       "      <td>206.0</td>\n",
       "      <td>$$</td>\n",
       "      <td>False</td>\n",
       "      <td>NaN</td>\n",
       "      <td>NaN</td>\n",
       "    </tr>\n",
       "    <tr>\n",
       "      <th>1</th>\n",
       "      <td>C</td>\n",
       "      <td>Коферум</td>\n",
       "      <td>Cafe</td>\n",
       "      <td>5.0</td>\n",
       "      <td>24.0</td>\n",
       "      <td>$$</td>\n",
       "      <td>False</td>\n",
       "      <td>NaN</td>\n",
       "      <td>True</td>\n",
       "    </tr>\n",
       "    <tr>\n",
       "      <th>2</th>\n",
       "      <td>C</td>\n",
       "      <td>Кофейня Світ Чаю</td>\n",
       "      <td>Coffee shop</td>\n",
       "      <td>5.0</td>\n",
       "      <td>11.0</td>\n",
       "      <td>$$</td>\n",
       "      <td>False</td>\n",
       "      <td>NaN</td>\n",
       "      <td>True</td>\n",
       "    </tr>\n",
       "    <tr>\n",
       "      <th>3</th>\n",
       "      <td>C</td>\n",
       "      <td>Кофейня Starcoff</td>\n",
       "      <td>Coffee shop</td>\n",
       "      <td>4.4</td>\n",
       "      <td>331.0</td>\n",
       "      <td>$$</td>\n",
       "      <td>False</td>\n",
       "      <td>True</td>\n",
       "      <td>True</td>\n",
       "    </tr>\n",
       "    <tr>\n",
       "      <th>4</th>\n",
       "      <td>C</td>\n",
       "      <td>Кофейня \"Friend Zone\"</td>\n",
       "      <td>Coffee shop</td>\n",
       "      <td>5.0</td>\n",
       "      <td>12.0</td>\n",
       "      <td>$$</td>\n",
       "      <td>False</td>\n",
       "      <td>True</td>\n",
       "      <td>True</td>\n",
       "    </tr>\n",
       "  </tbody>\n",
       "</table>\n",
       "</div>"
      ],
      "text/plain": [
       "  Region             Place name   Place type  Rating  Reviews Price   \n",
       "0      C               Dim Kavu       Others     4.6    206.0    $$  \\\n",
       "1      C                Коферум         Cafe     5.0     24.0    $$   \n",
       "2      C       Кофейня Світ Чаю  Coffee shop     5.0     11.0    $$   \n",
       "3      C       Кофейня Starcoff  Coffee shop     4.4    331.0    $$   \n",
       "4      C  Кофейня \"Friend Zone\"  Coffee shop     5.0     12.0    $$   \n",
       "\n",
       "   Delivery option Dine in option Takeout option  \n",
       "0            False            NaN            NaN  \n",
       "1            False            NaN           True  \n",
       "2            False            NaN           True  \n",
       "3            False           True           True  \n",
       "4            False           True           True  "
      ]
     },
     "execution_count": 13,
     "metadata": {},
     "output_type": "execute_result"
    }
   ],
   "source": [
    "coffee_cleaned = coffee_df.copy()\n",
    "coffee_cleaned.head()"
   ]
  },
  {
   "cell_type": "code",
   "execution_count": 14,
   "metadata": {},
   "outputs": [
    {
     "data": {
      "text/html": [
       "<div>\n",
       "<style scoped>\n",
       "    .dataframe tbody tr th:only-of-type {\n",
       "        vertical-align: middle;\n",
       "    }\n",
       "\n",
       "    .dataframe tbody tr th {\n",
       "        vertical-align: top;\n",
       "    }\n",
       "\n",
       "    .dataframe thead th {\n",
       "        text-align: right;\n",
       "    }\n",
       "</style>\n",
       "<table border=\"1\" class=\"dataframe\">\n",
       "  <thead>\n",
       "    <tr style=\"text-align: right;\">\n",
       "      <th></th>\n",
       "      <th>Region</th>\n",
       "      <th>Place name</th>\n",
       "      <th>Place type</th>\n",
       "      <th>Rating</th>\n",
       "      <th>Reviews</th>\n",
       "      <th>Price</th>\n",
       "      <th>Delivery option</th>\n",
       "      <th>Dine in option</th>\n",
       "      <th>Takeout option</th>\n",
       "    </tr>\n",
       "  </thead>\n",
       "  <tbody>\n",
       "    <tr>\n",
       "      <th>49</th>\n",
       "      <td>F</td>\n",
       "      <td>Кофе В Херсоне</td>\n",
       "      <td>Cafe</td>\n",
       "      <td>NaN</td>\n",
       "      <td>NaN</td>\n",
       "      <td>$$</td>\n",
       "      <td>False</td>\n",
       "      <td>NaN</td>\n",
       "      <td>NaN</td>\n",
       "    </tr>\n",
       "    <tr>\n",
       "      <th>186</th>\n",
       "      <td>H</td>\n",
       "      <td>Coffee&amp;Cake, Game zone PS4</td>\n",
       "      <td>Coffee shop</td>\n",
       "      <td>NaN</td>\n",
       "      <td>NaN</td>\n",
       "      <td>$$</td>\n",
       "      <td>False</td>\n",
       "      <td>NaN</td>\n",
       "      <td>NaN</td>\n",
       "    </tr>\n",
       "  </tbody>\n",
       "</table>\n",
       "</div>"
      ],
      "text/plain": [
       "    Region                  Place name   Place type  Rating  Reviews Price   \n",
       "49       F              Кофе В Херсоне         Cafe     NaN      NaN    $$  \\\n",
       "186      H  Coffee&Cake, Game zone PS4  Coffee shop     NaN      NaN    $$   \n",
       "\n",
       "     Delivery option Dine in option Takeout option  \n",
       "49             False            NaN            NaN  \n",
       "186            False            NaN            NaN  "
      ]
     },
     "execution_count": 14,
     "metadata": {},
     "output_type": "execute_result"
    },
    {
     "data": {
      "text/plain": [
       "0"
      ]
     },
     "execution_count": 14,
     "metadata": {},
     "output_type": "execute_result"
    },
    {
     "data": {
      "text/plain": [
       "198"
      ]
     },
     "execution_count": 14,
     "metadata": {},
     "output_type": "execute_result"
    }
   ],
   "source": [
    "# Converting Region column to categorical dtype\n",
    "coffee_cleaned['Region'] = coffee_cleaned['Region'].astype('category')\n",
    "\n",
    "# Converting Place type column to categorical dtype\n",
    "coffee_cleaned['Place type'] = coffee_cleaned['Place type'].astype('category')\n",
    "\n",
    "# Converting Price type to categorical dtype\n",
    "coffee_cleaned['Price'] = coffee_cleaned['Price'].astype('category')\n",
    "coffee_cleaned['Price'] = coffee_cleaned['Price'].cat.set_categories(['$','$$','$$$'], ordered=True)\n",
    "\n",
    "# Rating column has two missing values. Drop rows\n",
    "coffee_df[coffee_df['Rating'].isna()]\n",
    "coffee_cleaned = coffee_cleaned.dropna(subset=['Rating'])\n",
    "coffee_cleaned['Rating'].isna().sum()\n",
    "len(coffee_cleaned)\n"
   ]
  },
  {
   "cell_type": "code",
   "execution_count": 15,
   "metadata": {},
   "outputs": [
    {
     "data": {
      "text/html": [
       "<div>\n",
       "<style scoped>\n",
       "    .dataframe tbody tr th:only-of-type {\n",
       "        vertical-align: middle;\n",
       "    }\n",
       "\n",
       "    .dataframe tbody tr th {\n",
       "        vertical-align: top;\n",
       "    }\n",
       "\n",
       "    .dataframe thead th {\n",
       "        text-align: right;\n",
       "    }\n",
       "</style>\n",
       "<table border=\"1\" class=\"dataframe\">\n",
       "  <thead>\n",
       "    <tr style=\"text-align: right;\">\n",
       "      <th></th>\n",
       "      <th>Region</th>\n",
       "      <th>Place name</th>\n",
       "      <th>Place type</th>\n",
       "      <th>Rating</th>\n",
       "      <th>Reviews</th>\n",
       "      <th>Price</th>\n",
       "      <th>Delivery option</th>\n",
       "      <th>Dine in option</th>\n",
       "      <th>Takeout option</th>\n",
       "    </tr>\n",
       "  </thead>\n",
       "  <tbody>\n",
       "    <tr>\n",
       "      <th>49</th>\n",
       "      <td>F</td>\n",
       "      <td>Кофе В Херсоне</td>\n",
       "      <td>Cafe</td>\n",
       "      <td>NaN</td>\n",
       "      <td>NaN</td>\n",
       "      <td>$$</td>\n",
       "      <td>False</td>\n",
       "      <td>NaN</td>\n",
       "      <td>NaN</td>\n",
       "    </tr>\n",
       "    <tr>\n",
       "      <th>186</th>\n",
       "      <td>H</td>\n",
       "      <td>Coffee&amp;Cake, Game zone PS4</td>\n",
       "      <td>Coffee shop</td>\n",
       "      <td>NaN</td>\n",
       "      <td>NaN</td>\n",
       "      <td>$$</td>\n",
       "      <td>False</td>\n",
       "      <td>NaN</td>\n",
       "      <td>NaN</td>\n",
       "    </tr>\n",
       "  </tbody>\n",
       "</table>\n",
       "</div>"
      ],
      "text/plain": [
       "    Region                  Place name   Place type  Rating  Reviews Price   \n",
       "49       F              Кофе В Херсоне         Cafe     NaN      NaN    $$  \\\n",
       "186      H  Coffee&Cake, Game zone PS4  Coffee shop     NaN      NaN    $$   \n",
       "\n",
       "     Delivery option Dine in option Takeout option  \n",
       "49             False            NaN            NaN  \n",
       "186            False            NaN            NaN  "
      ]
     },
     "execution_count": 15,
     "metadata": {},
     "output_type": "execute_result"
    },
    {
     "data": {
      "text/plain": [
       "0"
      ]
     },
     "execution_count": 15,
     "metadata": {},
     "output_type": "execute_result"
    },
    {
     "data": {
      "text/plain": [
       "271.5"
      ]
     },
     "execution_count": 15,
     "metadata": {},
     "output_type": "execute_result"
    }
   ],
   "source": [
    "# Reviews column has two missing values. Replace with median value\n",
    "coffee_df[coffee_df['Reviews'].isna()]\n",
    "\n",
    "reviews_median = np.median(coffee_cleaned['Reviews'].dropna())\n",
    "coffee_cleaned['Reviews'] = coffee_cleaned['Reviews'].fillna(reviews_median,inplace=False)\n",
    "coffee_cleaned['Reviews'].isna().sum()\n",
    "\n",
    "np.median(coffee_cleaned['Reviews'])\n"
   ]
  },
  {
   "cell_type": "code",
   "execution_count": 16,
   "metadata": {},
   "outputs": [
    {
     "name": "stdout",
     "output_type": "stream",
     "text": [
      "<class 'pandas.core.frame.DataFrame'>\n",
      "Index: 198 entries, 0 to 199\n",
      "Data columns (total 9 columns):\n",
      " #   Column           Non-Null Count  Dtype   \n",
      "---  ------           --------------  -----   \n",
      " 0   Region           198 non-null    category\n",
      " 1   Place name       198 non-null    object  \n",
      " 2   Place type       198 non-null    category\n",
      " 3   Rating           198 non-null    float64 \n",
      " 4   Reviews          198 non-null    float64 \n",
      " 5   Price            198 non-null    category\n",
      " 6   Delivery option  198 non-null    bool    \n",
      " 7   Dine in option   198 non-null    bool    \n",
      " 8   Takeout option   198 non-null    bool    \n",
      "dtypes: bool(3), category(3), float64(2), object(1)\n",
      "memory usage: 8.0+ KB\n"
     ]
    },
    {
     "data": {
      "text/plain": [
       "(198, 9)"
      ]
     },
     "execution_count": 16,
     "metadata": {},
     "output_type": "execute_result"
    }
   ],
   "source": [
    "# Dine in column has 60 missing values. Replace with 'False'\n",
    "coffee_cleaned['Dine in option'] = coffee_cleaned['Dine in option'].fillna(False)\n",
    "\n",
    "# Takeaway column has 60 missing values. Replace with 'False'\n",
    "coffee_cleaned['Takeout option'] = coffee_cleaned['Takeout option'].fillna(False)\n",
    "\n",
    "coffee_cleaned.info()\n",
    "coffee_cleaned.shape"
   ]
  },
  {
   "cell_type": "code",
   "execution_count": 17,
   "metadata": {},
   "outputs": [
    {
     "data": {
      "text/html": [
       "<div>\n",
       "<style scoped>\n",
       "    .dataframe tbody tr th:only-of-type {\n",
       "        vertical-align: middle;\n",
       "    }\n",
       "\n",
       "    .dataframe tbody tr th {\n",
       "        vertical-align: top;\n",
       "    }\n",
       "\n",
       "    .dataframe thead th {\n",
       "        text-align: right;\n",
       "    }\n",
       "</style>\n",
       "<table border=\"1\" class=\"dataframe\">\n",
       "  <thead>\n",
       "    <tr style=\"text-align: right;\">\n",
       "      <th></th>\n",
       "      <th>Region</th>\n",
       "      <th>Place name</th>\n",
       "      <th>Place type</th>\n",
       "      <th>Rating</th>\n",
       "      <th>Reviews</th>\n",
       "      <th>Price</th>\n",
       "      <th>Delivery option</th>\n",
       "      <th>Dine in option</th>\n",
       "      <th>Takeout option</th>\n",
       "    </tr>\n",
       "  </thead>\n",
       "  <tbody>\n",
       "    <tr>\n",
       "      <th>0</th>\n",
       "      <td>C</td>\n",
       "      <td>Dim Kavu</td>\n",
       "      <td>Others</td>\n",
       "      <td>4.6</td>\n",
       "      <td>206.0</td>\n",
       "      <td>$$</td>\n",
       "      <td>False</td>\n",
       "      <td>False</td>\n",
       "      <td>False</td>\n",
       "    </tr>\n",
       "    <tr>\n",
       "      <th>1</th>\n",
       "      <td>C</td>\n",
       "      <td>Коферум</td>\n",
       "      <td>Cafe</td>\n",
       "      <td>5.0</td>\n",
       "      <td>24.0</td>\n",
       "      <td>$$</td>\n",
       "      <td>False</td>\n",
       "      <td>False</td>\n",
       "      <td>True</td>\n",
       "    </tr>\n",
       "    <tr>\n",
       "      <th>2</th>\n",
       "      <td>C</td>\n",
       "      <td>Кофейня Світ Чаю</td>\n",
       "      <td>Coffee shop</td>\n",
       "      <td>5.0</td>\n",
       "      <td>11.0</td>\n",
       "      <td>$$</td>\n",
       "      <td>False</td>\n",
       "      <td>False</td>\n",
       "      <td>True</td>\n",
       "    </tr>\n",
       "    <tr>\n",
       "      <th>3</th>\n",
       "      <td>C</td>\n",
       "      <td>Кофейня Starcoff</td>\n",
       "      <td>Coffee shop</td>\n",
       "      <td>4.4</td>\n",
       "      <td>331.0</td>\n",
       "      <td>$$</td>\n",
       "      <td>False</td>\n",
       "      <td>True</td>\n",
       "      <td>True</td>\n",
       "    </tr>\n",
       "    <tr>\n",
       "      <th>4</th>\n",
       "      <td>C</td>\n",
       "      <td>Кофейня \"Friend Zone\"</td>\n",
       "      <td>Coffee shop</td>\n",
       "      <td>5.0</td>\n",
       "      <td>12.0</td>\n",
       "      <td>$$</td>\n",
       "      <td>False</td>\n",
       "      <td>True</td>\n",
       "      <td>True</td>\n",
       "    </tr>\n",
       "  </tbody>\n",
       "</table>\n",
       "</div>"
      ],
      "text/plain": [
       "  Region             Place name   Place type  Rating  Reviews Price   \n",
       "0      C               Dim Kavu       Others     4.6    206.0    $$  \\\n",
       "1      C                Коферум         Cafe     5.0     24.0    $$   \n",
       "2      C       Кофейня Світ Чаю  Coffee shop     5.0     11.0    $$   \n",
       "3      C       Кофейня Starcoff  Coffee shop     4.4    331.0    $$   \n",
       "4      C  Кофейня \"Friend Zone\"  Coffee shop     5.0     12.0    $$   \n",
       "\n",
       "   Delivery option  Dine in option  Takeout option  \n",
       "0            False           False           False  \n",
       "1            False           False            True  \n",
       "2            False           False            True  \n",
       "3            False            True            True  \n",
       "4            False            True            True  "
      ]
     },
     "execution_count": 17,
     "metadata": {},
     "output_type": "execute_result"
    }
   ],
   "source": [
    "# Displaying current look of the data\n",
    "coffee_cleaned.head()"
   ]
  },
  {
   "cell_type": "code",
   "execution_count": 19,
   "metadata": {},
   "outputs": [
    {
     "data": {
      "text/plain": [
       "(198, 9)"
      ]
     },
     "execution_count": 19,
     "metadata": {},
     "output_type": "execute_result"
    },
    {
     "data": {
      "text/plain": [
       "(200, 9)"
      ]
     },
     "execution_count": 19,
     "metadata": {},
     "output_type": "execute_result"
    }
   ],
   "source": [
    "coffee_cleaned.shape\n",
    "coffee_df.shape"
   ]
  },
  {
   "attachments": {},
   "cell_type": "markdown",
   "metadata": {},
   "source": [
    "## Task 2\n",
    "### a: Create a visualization to shows rated stores\n"
   ]
  },
  {
   "cell_type": "code",
   "execution_count": 20,
   "metadata": {},
   "outputs": [
    {
     "data": {
      "text/plain": [
       "Rating\n",
       "4.6    47\n",
       "4.7    39\n",
       "4.9    25\n",
       "4.5    22\n",
       "5.0    21\n",
       "4.8    18\n",
       "4.4    12\n",
       "4.3     6\n",
       "4.2     2\n",
       "4.1     2\n",
       "4.0     2\n",
       "3.9     2\n",
       "Name: count, dtype: int64"
      ]
     },
     "execution_count": 20,
     "metadata": {},
     "output_type": "execute_result"
    }
   ],
   "source": [
    "coffee_cleaned['Rating'].value_counts()"
   ]
  },
  {
   "cell_type": "code",
   "execution_count": 30,
   "metadata": {},
   "outputs": [
    {
     "data": {
      "text/html": [
       "<div>\n",
       "<style scoped>\n",
       "    .dataframe tbody tr th:only-of-type {\n",
       "        vertical-align: middle;\n",
       "    }\n",
       "\n",
       "    .dataframe tbody tr th {\n",
       "        vertical-align: top;\n",
       "    }\n",
       "\n",
       "    .dataframe thead th {\n",
       "        text-align: right;\n",
       "    }\n",
       "</style>\n",
       "<table border=\"1\" class=\"dataframe\">\n",
       "  <thead>\n",
       "    <tr style=\"text-align: right;\">\n",
       "      <th></th>\n",
       "      <th>Rating</th>\n",
       "      <th>number_of_ratings</th>\n",
       "    </tr>\n",
       "  </thead>\n",
       "  <tbody>\n",
       "    <tr>\n",
       "      <th>0</th>\n",
       "      <td>5.0</td>\n",
       "      <td>21</td>\n",
       "    </tr>\n",
       "    <tr>\n",
       "      <th>1</th>\n",
       "      <td>4.9</td>\n",
       "      <td>25</td>\n",
       "    </tr>\n",
       "    <tr>\n",
       "      <th>2</th>\n",
       "      <td>4.8</td>\n",
       "      <td>18</td>\n",
       "    </tr>\n",
       "    <tr>\n",
       "      <th>3</th>\n",
       "      <td>4.7</td>\n",
       "      <td>39</td>\n",
       "    </tr>\n",
       "    <tr>\n",
       "      <th>4</th>\n",
       "      <td>4.6</td>\n",
       "      <td>47</td>\n",
       "    </tr>\n",
       "  </tbody>\n",
       "</table>\n",
       "</div>"
      ],
      "text/plain": [
       "   Rating  number_of_ratings\n",
       "0     5.0                 21\n",
       "1     4.9                 25\n",
       "2     4.8                 18\n",
       "3     4.7                 39\n",
       "4     4.6                 47"
      ]
     },
     "execution_count": 30,
     "metadata": {},
     "output_type": "execute_result"
    },
    {
     "data": {
      "text/html": [
       "<svg  width=\"550\" height=\"55\"><rect x=\"0\" y=\"0\" width=\"55\" height=\"55\" style=\"fill:#1f77b4;stroke-width:2;stroke:rgb(255,255,255)\"/><rect x=\"55\" y=\"0\" width=\"55\" height=\"55\" style=\"fill:#ff7f0e;stroke-width:2;stroke:rgb(255,255,255)\"/><rect x=\"110\" y=\"0\" width=\"55\" height=\"55\" style=\"fill:#2ca02c;stroke-width:2;stroke:rgb(255,255,255)\"/><rect x=\"165\" y=\"0\" width=\"55\" height=\"55\" style=\"fill:#d62728;stroke-width:2;stroke:rgb(255,255,255)\"/><rect x=\"220\" y=\"0\" width=\"55\" height=\"55\" style=\"fill:#9467bd;stroke-width:2;stroke:rgb(255,255,255)\"/><rect x=\"275\" y=\"0\" width=\"55\" height=\"55\" style=\"fill:#8c564b;stroke-width:2;stroke:rgb(255,255,255)\"/><rect x=\"330\" y=\"0\" width=\"55\" height=\"55\" style=\"fill:#e377c2;stroke-width:2;stroke:rgb(255,255,255)\"/><rect x=\"385\" y=\"0\" width=\"55\" height=\"55\" style=\"fill:#7f7f7f;stroke-width:2;stroke:rgb(255,255,255)\"/><rect x=\"440\" y=\"0\" width=\"55\" height=\"55\" style=\"fill:#bcbd22;stroke-width:2;stroke:rgb(255,255,255)\"/><rect x=\"495\" y=\"0\" width=\"55\" height=\"55\" style=\"fill:#17becf;stroke-width:2;stroke:rgb(255,255,255)\"/></svg>"
      ],
      "text/plain": [
       "[(0.12156862745098039, 0.4666666666666667, 0.7058823529411765),\n",
       " (1.0, 0.4980392156862745, 0.054901960784313725),\n",
       " (0.17254901960784313, 0.6274509803921569, 0.17254901960784313),\n",
       " (0.8392156862745098, 0.15294117647058825, 0.1568627450980392),\n",
       " (0.5803921568627451, 0.403921568627451, 0.7411764705882353),\n",
       " (0.5490196078431373, 0.33725490196078434, 0.29411764705882354),\n",
       " (0.8901960784313725, 0.4666666666666667, 0.7607843137254902),\n",
       " (0.4980392156862745, 0.4980392156862745, 0.4980392156862745),\n",
       " (0.7372549019607844, 0.7411764705882353, 0.13333333333333333),\n",
       " (0.09019607843137255, 0.7450980392156863, 0.8117647058823529)]"
      ]
     },
     "execution_count": 30,
     "metadata": {},
     "output_type": "execute_result"
    },
    {
     "data": {
      "image/png": "[encoded data removed]",
      "text/plain": [
       "<Figure size 640x480 with 1 Axes>"
      ]
     },
     "metadata": {},
     "output_type": "display_data"
    }
   ],
   "source": [
    "store_ratings = (\n",
    "    coffee_cleaned.query(\"Rating > 0\")[\"Rating\"]\n",
    "    .value_counts()\n",
    "    .sort_index(ascending=False)\n",
    "    .reset_index()\n",
    "    .rename(columns={\"count\": \"number_of_ratings\"})\n",
    ")\n",
    "ax = sns.barplot(x=\"Rating\", y=\"number_of_ratings\", data=store_ratings)\n",
    "ax = ax.set(\n",
    "    xlabel=\" Average Rating\",\n",
    "    ylabel=\"Number of Stores\",\n",
    "    title=\"Spread of ratings across shops\",\n",
    "    yticks=range(0, 55, 10),\n",
    ")\n",
    "sns.despine(left=True)\n",
    "sns.set_style(\"darkgrid\")\n",
    "store_ratings.head()\n",
    "sns.color_palette()"
   ]
  },
  {
   "attachments": {},
   "cell_type": "markdown",
   "metadata": {},
   "source": [
    "### Observation\n",
    "- From the above bar chart, it looks like the most common rating awarded is 4.6 at 47 entries, followed closely by a 4.7 rating at 39 entries\n",
    "- Ratings of 4.5, 4.9, 5.0 are also closely matched with total entries at 22, 25, and 21 respectively"
   ]
  },
  {
   "cell_type": "code",
   "execution_count": 31,
   "metadata": {},
   "outputs": [
    {
     "data": {
      "text/plain": [
       "<seaborn.axisgrid.FacetGrid at 0x2141bb79360>"
      ]
     },
     "execution_count": 31,
     "metadata": {},
     "output_type": "execute_result"
    },
    {
     "data": {
      "text/plain": [
       "<seaborn.axisgrid.FacetGrid at 0x2141ae22320>"
      ]
     },
     "execution_count": 31,
     "metadata": {},
     "output_type": "execute_result"
    },
    {
     "data": {
      "image/png": "[encoded data removed]",
      "text/plain": [
       "<Figure size 500x500 with 1 Axes>"
      ]
     },
     "metadata": {},
     "output_type": "display_data"
    },
    {
     "data": {
      "image/png": "[encoded data removed]",
      "text/plain": [
       "<Figure size 631.625x500 with 1 Axes>"
      ]
     },
     "metadata": {},
     "output_type": "display_data"
    }
   ],
   "source": [
    "place_type_reviews = coffee_cleaned.groupby(['Place type'])[['Rating','Reviews']].agg({'Rating':'min','Reviews':'sum'}).reset_index()\n",
    "regions_reviews = coffee_cleaned.groupby(['Region','Place type'])['Reviews'].sum().reset_index()\n",
    "\n",
    "ax = sns.catplot(place_type_reviews,x='Place type',y='Reviews',kind='bar')\n",
    "ax1 = sns.catplot(data=regions_reviews, x = 'Region',y='Reviews',hue='Place type',kind='bar')\n",
    "ax.set(title= 'Reviews per place type', xlabel='Place type',ylabel='Number of reviews')\n",
    "ax1.set(title= 'Reviews per region', xlabel='Regions',ylabel='Number of reviews')\n",
    "sns.despine(left=True)\n",
    "# place_type_reviews\n",
    "# regions_reviews.head()\n",
    "# plt.show()"
   ]
  },
  {
   "attachments": {},
   "cell_type": "markdown",
   "metadata": {},
   "source": [
    "The chart above shows the spread of reviews across the different regions, and further breaks it down according to different shop categories in each region.\n",
    "\n",
    "The Coffee shops in Region E have a relatively high number of reviews when compared to other regions and shops. upon further investigation, it was discovered that\n",
    "the most reviewed shop (Lviv Coffee Manufacture) has 6x as many reviews as the 2nd most reviewed shop. Lviv Cofffee might just be as popular but a further probing into its reviews might be needed before any further conclusions can be drawn."
   ]
  },
  {
   "cell_type": "code",
   "execution_count": 32,
   "metadata": {},
   "outputs": [
    {
     "data": {
      "text/html": [
       "<div>\n",
       "<style scoped>\n",
       "    .dataframe tbody tr th:only-of-type {\n",
       "        vertical-align: middle;\n",
       "    }\n",
       "\n",
       "    .dataframe tbody tr th {\n",
       "        vertical-align: top;\n",
       "    }\n",
       "\n",
       "    .dataframe thead th {\n",
       "        text-align: right;\n",
       "    }\n",
       "</style>\n",
       "<table border=\"1\" class=\"dataframe\">\n",
       "  <thead>\n",
       "    <tr style=\"text-align: right;\">\n",
       "      <th></th>\n",
       "      <th>Region</th>\n",
       "      <th>Place name</th>\n",
       "      <th>Place type</th>\n",
       "      <th>Rating</th>\n",
       "      <th>Reviews</th>\n",
       "      <th>Price</th>\n",
       "      <th>Delivery option</th>\n",
       "      <th>Dine in option</th>\n",
       "      <th>Takeout option</th>\n",
       "    </tr>\n",
       "  </thead>\n",
       "  <tbody>\n",
       "    <tr>\n",
       "      <th>100</th>\n",
       "      <td>E</td>\n",
       "      <td>Lviv Coffee Manufacture</td>\n",
       "      <td>Coffee shop</td>\n",
       "      <td>4.7</td>\n",
       "      <td>17937.0</td>\n",
       "      <td>$$</td>\n",
       "      <td>True</td>\n",
       "      <td>True</td>\n",
       "      <td>True</td>\n",
       "    </tr>\n",
       "    <tr>\n",
       "      <th>101</th>\n",
       "      <td>E</td>\n",
       "      <td>Svit Kavy</td>\n",
       "      <td>Coffee shop</td>\n",
       "      <td>4.6</td>\n",
       "      <td>2931.0</td>\n",
       "      <td>$$</td>\n",
       "      <td>False</td>\n",
       "      <td>True</td>\n",
       "      <td>True</td>\n",
       "    </tr>\n",
       "    <tr>\n",
       "      <th>165</th>\n",
       "      <td>I</td>\n",
       "      <td>Kofeyin</td>\n",
       "      <td>Coffee shop</td>\n",
       "      <td>4.5</td>\n",
       "      <td>2914.0</td>\n",
       "      <td>$$</td>\n",
       "      <td>False</td>\n",
       "      <td>True</td>\n",
       "      <td>True</td>\n",
       "    </tr>\n",
       "    <tr>\n",
       "      <th>110</th>\n",
       "      <td>E</td>\n",
       "      <td>Вірменка</td>\n",
       "      <td>Coffee shop</td>\n",
       "      <td>4.8</td>\n",
       "      <td>2873.0</td>\n",
       "      <td>$$</td>\n",
       "      <td>False</td>\n",
       "      <td>True</td>\n",
       "      <td>True</td>\n",
       "    </tr>\n",
       "    <tr>\n",
       "      <th>81</th>\n",
       "      <td>A</td>\n",
       "      <td>Traveler`s Coffee</td>\n",
       "      <td>Coffee shop</td>\n",
       "      <td>4.6</td>\n",
       "      <td>2700.0</td>\n",
       "      <td>$$</td>\n",
       "      <td>True</td>\n",
       "      <td>True</td>\n",
       "      <td>True</td>\n",
       "    </tr>\n",
       "  </tbody>\n",
       "</table>\n",
       "</div>"
      ],
      "text/plain": [
       "    Region               Place name   Place type  Rating  Reviews Price   \n",
       "100      E  Lviv Coffee Manufacture  Coffee shop     4.7  17937.0    $$  \\\n",
       "101      E                Svit Kavy  Coffee shop     4.6   2931.0    $$   \n",
       "165      I                  Kofeyin  Coffee shop     4.5   2914.0    $$   \n",
       "110      E                 Вірменка  Coffee shop     4.8   2873.0    $$   \n",
       "81       A        Traveler`s Coffee  Coffee shop     4.6   2700.0    $$   \n",
       "\n",
       "     Delivery option  Dine in option  Takeout option  \n",
       "100             True            True            True  \n",
       "101            False            True            True  \n",
       "165            False            True            True  \n",
       "110            False            True            True  \n",
       "81              True            True            True  "
      ]
     },
     "execution_count": 32,
     "metadata": {},
     "output_type": "execute_result"
    }
   ],
   "source": [
    "coffee_cleaned.sort_values('Reviews',ascending=False).head()"
   ]
  },
  {
   "cell_type": "code",
   "execution_count": 33,
   "metadata": {},
   "outputs": [
    {
     "data": {
      "text/plain": [
       "[Text(0.5, 1.0, 'Reviews per region'),\n",
       " Text(0.5, 0, 'Regions'),\n",
       " Text(0, 0.5, 'Number of reviews')]"
      ]
     },
     "execution_count": 33,
     "metadata": {},
     "output_type": "execute_result"
    },
    {
     "data": {
      "image/png": "[encoded data removed]",
      "text/plain": [
       "<Figure size 640x480 with 1 Axes>"
      ]
     },
     "metadata": {},
     "output_type": "display_data"
    }
   ],
   "source": [
    "ax1 = sns.boxplot(data=regions_reviews, x = 'Region',y='Reviews', showfliers=False)\n",
    "ax1.set(title= 'Reviews per region', xlabel='Regions',ylabel='Number of reviews')\n",
    "sns.despine(left=True)\n"
   ]
  },
  {
   "cell_type": "code",
   "execution_count": 393,
   "metadata": {},
   "outputs": [
    {
     "data": {
      "text/plain": [
       "[Text(0.5, 1.0, 'Relation between Reviews and Rating with Dine In Option')]"
      ]
     },
     "execution_count": 393,
     "metadata": {},
     "output_type": "execute_result"
    },
    {
     "data": {
      "image/png": "[encoded data removed]",
      "text/plain": [
       "<Figure size 640x480 with 1 Axes>"
      ]
     },
     "metadata": {},
     "output_type": "display_data"
    }
   ],
   "source": [
    "ax =sns.boxplot(data=coffee_cleaned, x='Rating',y='Reviews', hue='Dine in option',showfliers=False)\n",
    "ax.set(title='Relation between Reviews and Rating with Dine In Option')"
   ]
  },
  {
   "cell_type": "code",
   "execution_count": 34,
   "metadata": {},
   "outputs": [
    {
     "data": {
      "text/html": [
       "<div>\n",
       "<style scoped>\n",
       "    .dataframe tbody tr th:only-of-type {\n",
       "        vertical-align: middle;\n",
       "    }\n",
       "\n",
       "    .dataframe tbody tr th {\n",
       "        vertical-align: top;\n",
       "    }\n",
       "\n",
       "    .dataframe thead th {\n",
       "        text-align: right;\n",
       "    }\n",
       "</style>\n",
       "<table border=\"1\" class=\"dataframe\">\n",
       "  <thead>\n",
       "    <tr style=\"text-align: right;\">\n",
       "      <th></th>\n",
       "      <th>Region</th>\n",
       "      <th>Place name</th>\n",
       "      <th>Place type</th>\n",
       "      <th>Rating</th>\n",
       "      <th>Reviews</th>\n",
       "      <th>Price</th>\n",
       "      <th>Delivery option</th>\n",
       "      <th>Dine in option</th>\n",
       "      <th>Takeout option</th>\n",
       "    </tr>\n",
       "  </thead>\n",
       "  <tbody>\n",
       "    <tr>\n",
       "      <th>100</th>\n",
       "      <td>E</td>\n",
       "      <td>Lviv Coffee Manufacture</td>\n",
       "      <td>Coffee shop</td>\n",
       "      <td>4.7</td>\n",
       "      <td>17937.0</td>\n",
       "      <td>$$</td>\n",
       "      <td>True</td>\n",
       "      <td>True</td>\n",
       "      <td>True</td>\n",
       "    </tr>\n",
       "    <tr>\n",
       "      <th>101</th>\n",
       "      <td>E</td>\n",
       "      <td>Svit Kavy</td>\n",
       "      <td>Coffee shop</td>\n",
       "      <td>4.6</td>\n",
       "      <td>2931.0</td>\n",
       "      <td>$$</td>\n",
       "      <td>False</td>\n",
       "      <td>True</td>\n",
       "      <td>True</td>\n",
       "    </tr>\n",
       "    <tr>\n",
       "      <th>165</th>\n",
       "      <td>I</td>\n",
       "      <td>Kofeyin</td>\n",
       "      <td>Coffee shop</td>\n",
       "      <td>4.5</td>\n",
       "      <td>2914.0</td>\n",
       "      <td>$$</td>\n",
       "      <td>False</td>\n",
       "      <td>True</td>\n",
       "      <td>True</td>\n",
       "    </tr>\n",
       "    <tr>\n",
       "      <th>110</th>\n",
       "      <td>E</td>\n",
       "      <td>Вірменка</td>\n",
       "      <td>Coffee shop</td>\n",
       "      <td>4.8</td>\n",
       "      <td>2873.0</td>\n",
       "      <td>$$</td>\n",
       "      <td>False</td>\n",
       "      <td>True</td>\n",
       "      <td>True</td>\n",
       "    </tr>\n",
       "    <tr>\n",
       "      <th>81</th>\n",
       "      <td>A</td>\n",
       "      <td>Traveler`s Coffee</td>\n",
       "      <td>Coffee shop</td>\n",
       "      <td>4.6</td>\n",
       "      <td>2700.0</td>\n",
       "      <td>$$</td>\n",
       "      <td>True</td>\n",
       "      <td>True</td>\n",
       "      <td>True</td>\n",
       "    </tr>\n",
       "  </tbody>\n",
       "</table>\n",
       "</div>"
      ],
      "text/plain": [
       "    Region               Place name   Place type  Rating  Reviews Price   \n",
       "100      E  Lviv Coffee Manufacture  Coffee shop     4.7  17937.0    $$  \\\n",
       "101      E                Svit Kavy  Coffee shop     4.6   2931.0    $$   \n",
       "165      I                  Kofeyin  Coffee shop     4.5   2914.0    $$   \n",
       "110      E                 Вірменка  Coffee shop     4.8   2873.0    $$   \n",
       "81       A        Traveler`s Coffee  Coffee shop     4.6   2700.0    $$   \n",
       "\n",
       "     Delivery option  Dine in option  Takeout option  \n",
       "100             True            True            True  \n",
       "101            False            True            True  \n",
       "165            False            True            True  \n",
       "110            False            True            True  \n",
       "81              True            True            True  "
      ]
     },
     "execution_count": 34,
     "metadata": {},
     "output_type": "execute_result"
    }
   ],
   "source": [
    "coffee_cleaned.sort_values(by='Reviews',ascending=False).head()"
   ]
  },
  {
   "cell_type": "code",
   "execution_count": 35,
   "metadata": {},
   "outputs": [
    {
     "data": {
      "text/html": [
       "<div>\n",
       "<style scoped>\n",
       "    .dataframe tbody tr th:only-of-type {\n",
       "        vertical-align: middle;\n",
       "    }\n",
       "\n",
       "    .dataframe tbody tr th {\n",
       "        vertical-align: top;\n",
       "    }\n",
       "\n",
       "    .dataframe thead th {\n",
       "        text-align: right;\n",
       "    }\n",
       "</style>\n",
       "<table border=\"1\" class=\"dataframe\">\n",
       "  <thead>\n",
       "    <tr style=\"text-align: right;\">\n",
       "      <th></th>\n",
       "      <th>Region</th>\n",
       "      <th>Place name</th>\n",
       "      <th>Place type</th>\n",
       "      <th>Rating</th>\n",
       "      <th>Reviews</th>\n",
       "      <th>Price</th>\n",
       "      <th>Delivery option</th>\n",
       "      <th>Dine in option</th>\n",
       "      <th>Takeout option</th>\n",
       "    </tr>\n",
       "  </thead>\n",
       "  <tbody>\n",
       "    <tr>\n",
       "      <th>171</th>\n",
       "      <td>I</td>\n",
       "      <td>Dim Kavy</td>\n",
       "      <td>Espresso bar</td>\n",
       "      <td>4.7</td>\n",
       "      <td>185.0</td>\n",
       "      <td>$$</td>\n",
       "      <td>False</td>\n",
       "      <td>False</td>\n",
       "      <td>False</td>\n",
       "    </tr>\n",
       "    <tr>\n",
       "      <th>172</th>\n",
       "      <td>I</td>\n",
       "      <td>Dim Kavy</td>\n",
       "      <td>Others</td>\n",
       "      <td>4.7</td>\n",
       "      <td>222.0</td>\n",
       "      <td>$$</td>\n",
       "      <td>False</td>\n",
       "      <td>True</td>\n",
       "      <td>True</td>\n",
       "    </tr>\n",
       "    <tr>\n",
       "      <th>151</th>\n",
       "      <td>G</td>\n",
       "      <td>Kaffa</td>\n",
       "      <td>Cafe</td>\n",
       "      <td>4.7</td>\n",
       "      <td>1281.0</td>\n",
       "      <td>$$</td>\n",
       "      <td>False</td>\n",
       "      <td>True</td>\n",
       "      <td>True</td>\n",
       "    </tr>\n",
       "    <tr>\n",
       "      <th>154</th>\n",
       "      <td>G</td>\n",
       "      <td>Kaffa</td>\n",
       "      <td>Espresso bar</td>\n",
       "      <td>4.8</td>\n",
       "      <td>824.0</td>\n",
       "      <td>$$</td>\n",
       "      <td>False</td>\n",
       "      <td>True</td>\n",
       "      <td>True</td>\n",
       "    </tr>\n",
       "    <tr>\n",
       "      <th>100</th>\n",
       "      <td>E</td>\n",
       "      <td>Lviv Coffee Manufacture</td>\n",
       "      <td>Coffee shop</td>\n",
       "      <td>4.7</td>\n",
       "      <td>17937.0</td>\n",
       "      <td>$$</td>\n",
       "      <td>True</td>\n",
       "      <td>True</td>\n",
       "      <td>True</td>\n",
       "    </tr>\n",
       "    <tr>\n",
       "      <th>108</th>\n",
       "      <td>E</td>\n",
       "      <td>Lviv Coffee Manufacture</td>\n",
       "      <td>Coffee shop</td>\n",
       "      <td>4.5</td>\n",
       "      <td>778.0</td>\n",
       "      <td>$$</td>\n",
       "      <td>False</td>\n",
       "      <td>True</td>\n",
       "      <td>True</td>\n",
       "    </tr>\n",
       "    <tr>\n",
       "      <th>120</th>\n",
       "      <td>D</td>\n",
       "      <td>SV Кафе</td>\n",
       "      <td>Cafe</td>\n",
       "      <td>4.5</td>\n",
       "      <td>998.0</td>\n",
       "      <td>$$</td>\n",
       "      <td>True</td>\n",
       "      <td>True</td>\n",
       "      <td>True</td>\n",
       "    </tr>\n",
       "    <tr>\n",
       "      <th>132</th>\n",
       "      <td>D</td>\n",
       "      <td>SV Кафе</td>\n",
       "      <td>Cafe</td>\n",
       "      <td>4.6</td>\n",
       "      <td>740.0</td>\n",
       "      <td>$$</td>\n",
       "      <td>False</td>\n",
       "      <td>True</td>\n",
       "      <td>True</td>\n",
       "    </tr>\n",
       "    <tr>\n",
       "      <th>101</th>\n",
       "      <td>E</td>\n",
       "      <td>Svit Kavy</td>\n",
       "      <td>Coffee shop</td>\n",
       "      <td>4.6</td>\n",
       "      <td>2931.0</td>\n",
       "      <td>$$</td>\n",
       "      <td>False</td>\n",
       "      <td>True</td>\n",
       "      <td>True</td>\n",
       "    </tr>\n",
       "    <tr>\n",
       "      <th>107</th>\n",
       "      <td>E</td>\n",
       "      <td>Svit Kavy</td>\n",
       "      <td>Coffee shop</td>\n",
       "      <td>4.3</td>\n",
       "      <td>102.0</td>\n",
       "      <td>$$</td>\n",
       "      <td>False</td>\n",
       "      <td>True</td>\n",
       "      <td>True</td>\n",
       "    </tr>\n",
       "    <tr>\n",
       "      <th>162</th>\n",
       "      <td>I</td>\n",
       "      <td>Sweeter</td>\n",
       "      <td>Coffee shop</td>\n",
       "      <td>4.6</td>\n",
       "      <td>642.0</td>\n",
       "      <td>$$</td>\n",
       "      <td>False</td>\n",
       "      <td>True</td>\n",
       "      <td>True</td>\n",
       "    </tr>\n",
       "    <tr>\n",
       "      <th>173</th>\n",
       "      <td>I</td>\n",
       "      <td>Sweeter</td>\n",
       "      <td>Coffee shop</td>\n",
       "      <td>4.6</td>\n",
       "      <td>289.0</td>\n",
       "      <td>$$</td>\n",
       "      <td>False</td>\n",
       "      <td>True</td>\n",
       "      <td>True</td>\n",
       "    </tr>\n",
       "  </tbody>\n",
       "</table>\n",
       "</div>"
      ],
      "text/plain": [
       "    Region               Place name    Place type  Rating  Reviews Price   \n",
       "171      I                 Dim Kavy  Espresso bar     4.7    185.0    $$  \\\n",
       "172      I                 Dim Kavy        Others     4.7    222.0    $$   \n",
       "151      G                    Kaffa          Cafe     4.7   1281.0    $$   \n",
       "154      G                    Kaffa  Espresso bar     4.8    824.0    $$   \n",
       "100      E  Lviv Coffee Manufacture   Coffee shop     4.7  17937.0    $$   \n",
       "108      E  Lviv Coffee Manufacture   Coffee shop     4.5    778.0    $$   \n",
       "120      D                  SV Кафе          Cafe     4.5    998.0    $$   \n",
       "132      D                  SV Кафе          Cafe     4.6    740.0    $$   \n",
       "101      E                Svit Kavy   Coffee shop     4.6   2931.0    $$   \n",
       "107      E                Svit Kavy   Coffee shop     4.3    102.0    $$   \n",
       "162      I                  Sweeter   Coffee shop     4.6    642.0    $$   \n",
       "173      I                  Sweeter   Coffee shop     4.6    289.0    $$   \n",
       "\n",
       "     Delivery option  Dine in option  Takeout option  \n",
       "171            False           False           False  \n",
       "172            False            True            True  \n",
       "151            False            True            True  \n",
       "154            False            True            True  \n",
       "100             True            True            True  \n",
       "108            False            True            True  \n",
       "120             True            True            True  \n",
       "132            False            True            True  \n",
       "101            False            True            True  \n",
       "107            False            True            True  \n",
       "162            False            True            True  \n",
       "173            False            True            True  "
      ]
     },
     "execution_count": 35,
     "metadata": {},
     "output_type": "execute_result"
    }
   ],
   "source": [
    "coffee_cleaned[coffee_cleaned[['Region','Place name']].duplicated(keep=False)].sort_values('Place name')"
   ]
  },
  {
   "cell_type": "code",
   "execution_count": 36,
   "metadata": {},
   "outputs": [],
   "source": [
    "reviews_and_ratings = coffee_cleaned.query('Reviews <=10000 and Rating >=3.9')\n"
   ]
  },
  {
   "attachments": {},
   "cell_type": "markdown",
   "metadata": {},
   "source": [
    "## Task 3: Distribution of the number of reivews"
   ]
  },
  {
   "cell_type": "code",
   "execution_count": 37,
   "metadata": {},
   "outputs": [
    {
     "data": {
      "text/plain": [
       "<Axes: xlabel='Reviews', ylabel='Count'>"
      ]
     },
     "execution_count": 37,
     "metadata": {},
     "output_type": "execute_result"
    },
    {
     "data": {
      "text/html": [
       "<div>\n",
       "<style scoped>\n",
       "    .dataframe tbody tr th:only-of-type {\n",
       "        vertical-align: middle;\n",
       "    }\n",
       "\n",
       "    .dataframe tbody tr th {\n",
       "        vertical-align: top;\n",
       "    }\n",
       "\n",
       "    .dataframe thead th {\n",
       "        text-align: right;\n",
       "    }\n",
       "</style>\n",
       "<table border=\"1\" class=\"dataframe\">\n",
       "  <thead>\n",
       "    <tr style=\"text-align: right;\">\n",
       "      <th></th>\n",
       "      <th>Region</th>\n",
       "      <th>Place name</th>\n",
       "      <th>Place type</th>\n",
       "      <th>Rating</th>\n",
       "      <th>Reviews</th>\n",
       "      <th>Price</th>\n",
       "      <th>Delivery option</th>\n",
       "      <th>Dine in option</th>\n",
       "      <th>Takeout option</th>\n",
       "    </tr>\n",
       "  </thead>\n",
       "  <tbody>\n",
       "    <tr>\n",
       "      <th>170</th>\n",
       "      <td>I</td>\n",
       "      <td>Dom Kofe, Mah.</td>\n",
       "      <td>Coffee shop</td>\n",
       "      <td>4.3</td>\n",
       "      <td>3.0</td>\n",
       "      <td>$$</td>\n",
       "      <td>False</td>\n",
       "      <td>False</td>\n",
       "      <td>False</td>\n",
       "    </tr>\n",
       "    <tr>\n",
       "      <th>190</th>\n",
       "      <td>H</td>\n",
       "      <td>\"Франс.уа\" кофейня-пекарня</td>\n",
       "      <td>Cafe</td>\n",
       "      <td>3.9</td>\n",
       "      <td>9.0</td>\n",
       "      <td>$$</td>\n",
       "      <td>False</td>\n",
       "      <td>False</td>\n",
       "      <td>True</td>\n",
       "    </tr>\n",
       "    <tr>\n",
       "      <th>99</th>\n",
       "      <td>A</td>\n",
       "      <td>Coffee break ZAVIDA</td>\n",
       "      <td>Coffee shop</td>\n",
       "      <td>4.9</td>\n",
       "      <td>10.0</td>\n",
       "      <td>$$</td>\n",
       "      <td>False</td>\n",
       "      <td>False</td>\n",
       "      <td>False</td>\n",
       "    </tr>\n",
       "    <tr>\n",
       "      <th>160</th>\n",
       "      <td>I</td>\n",
       "      <td>КофеТочка Харьков - интернет-магазин кофе и кофеоборудования</td>\n",
       "      <td>Others</td>\n",
       "      <td>3.9</td>\n",
       "      <td>10.0</td>\n",
       "      <td>$$</td>\n",
       "      <td>False</td>\n",
       "      <td>False</td>\n",
       "      <td>False</td>\n",
       "    </tr>\n",
       "    <tr>\n",
       "      <th>19</th>\n",
       "      <td>C</td>\n",
       "      <td>Coffee Drive</td>\n",
       "      <td>Coffee shop</td>\n",
       "      <td>4.8</td>\n",
       "      <td>10.0</td>\n",
       "      <td>$$</td>\n",
       "      <td>False</td>\n",
       "      <td>True</td>\n",
       "      <td>True</td>\n",
       "    </tr>\n",
       "  </tbody>\n",
       "</table>\n",
       "</div>"
      ],
      "text/plain": [
       "    Region                                                    Place name   \n",
       "170      I                                                Dom Kofe, Mah.  \\\n",
       "190      H                                    \"Франс.уа\" кофейня-пекарня   \n",
       "99       A                                           Coffee break ZAVIDA   \n",
       "160      I  КофеТочка Харьков - интернет-магазин кофе и кофеоборудования   \n",
       "19       C                                                  Coffee Drive   \n",
       "\n",
       "      Place type  Rating  Reviews Price  Delivery option  Dine in option   \n",
       "170  Coffee shop     4.3      3.0    $$            False           False  \\\n",
       "190         Cafe     3.9      9.0    $$            False           False   \n",
       "99   Coffee shop     4.9     10.0    $$            False           False   \n",
       "160       Others     3.9     10.0    $$            False           False   \n",
       "19   Coffee shop     4.8     10.0    $$            False            True   \n",
       "\n",
       "     Takeout option  \n",
       "170           False  \n",
       "190            True  \n",
       "99            False  \n",
       "160           False  \n",
       "19             True  "
      ]
     },
     "execution_count": 37,
     "metadata": {},
     "output_type": "execute_result"
    },
    {
     "data": {
      "image/png": "[encoded data removed]",
      "text/plain": [
       "<Figure size 640x480 with 1 Axes>"
      ]
     },
     "metadata": {},
     "output_type": "display_data"
    }
   ],
   "source": [
    "sns.histplot(coffee_cleaned['Reviews'],kde=True,bins=55)\n",
    "# sns.displot(reviews_and_ratings['Reviews'],kde=True,bins=25)\n",
    "reviews_and_ratings.sort_values('Reviews').head()"
   ]
  },
  {
   "attachments": {},
   "cell_type": "markdown",
   "metadata": {},
   "source": [
    "The chart above is heavily skewed to the right. It shows that most of the shops get little to no reviews even though there are a few shops with lots of reviews. These highly reviewed shops are the outliers in the dataset"
   ]
  },
  {
   "attachments": {},
   "cell_type": "markdown",
   "metadata": {},
   "source": [
    "## Task 4: Relationship between Ratings and number of reviews"
   ]
  },
  {
   "cell_type": "code",
   "execution_count": 38,
   "metadata": {},
   "outputs": [
    {
     "data": {
      "text/plain": [
       "[Text(0.5, 1.0, 'Ratings and Reviews'),\n",
       " Text(0.5, 0, 'Rating'),\n",
       " Text(0, 0.5, 'Number of Reviews')]"
      ]
     },
     "execution_count": 38,
     "metadata": {},
     "output_type": "execute_result"
    },
    {
     "data": {
      "image/png": "[encoded data removed]",
      "text/plain": [
       "<Figure size 640x480 with 1 Axes>"
      ]
     },
     "metadata": {},
     "output_type": "display_data"
    }
   ],
   "source": [
    "\n",
    "# reviews_and_ratings.head()\n",
    "# sns.scatterplot(reviews_and_ratings, y ='Reviews', x = 'Rating_jitter',alpha=0.5, size=0.01)\n",
    "# sns.histplot(reviews_and_ratings['Reviews'])\n",
    "ax = sns.boxplot(reviews_and_ratings,x='Rating',y='Reviews',whis=1.5)\n",
    "ax.set(title='Ratings and Reviews', xlabel='Rating',ylabel='Number of Reviews')"
   ]
  },
  {
   "attachments": {},
   "cell_type": "markdown",
   "metadata": {},
   "source": [
    "The figure above showcases the relationship between the number of reviews given and the mean rating. From the chart, it looks like the places with the most reviews tend to fall between a 4.5 to 4.6 rating. Customers also tend to not give a shop the very low or high ratings (5.0, less than 4)"
   ]
  },
  {
   "attachments": {},
   "cell_type": "markdown",
   "metadata": {},
   "source": [
    "## Task 5: Predicting number of reviews\n",
    "- This is a regression problem\n",
    "\n",
    "## Task 6: Fitting a baseline prediction model"
   ]
  },
  {
   "cell_type": "code",
   "execution_count": 41,
   "metadata": {},
   "outputs": [],
   "source": [
    "# Set dummy variables for categorical columns (Region, Place type, Price)\n",
    "coffee_ml = pd.get_dummies(coffee_cleaned[['Region','Place type','Price']],drop_first=True)\n",
    "coffee_ml = pd.concat([coffee_ml,coffee_cleaned],axis=1)\n",
    "coffee_ml = coffee_ml.drop(['Region','Place name','Place type','Price'],axis=1)\n",
    "coffee_ml[['Delivery option','Dine in option','Takeout option']] = coffee_ml[['Delivery option','Dine in option','Takeout option']].astype('int')"
   ]
  },
  {
   "cell_type": "code",
   "execution_count": 42,
   "metadata": {},
   "outputs": [],
   "source": [
    "from sklearn.model_selection import train_test_split, GridSearchCV, KFold\n",
    "from sklearn.linear_model import LinearRegression, Lasso, Ridge\n",
    "from sklearn.preprocessing import StandardScaler, Normalizer\n",
    "from sklearn.tree import DecisionTreeRegressor"
   ]
  },
  {
   "cell_type": "code",
   "execution_count": 43,
   "metadata": {},
   "outputs": [],
   "source": [
    "X = coffee_ml.drop(['Reviews'],axis=1)\n",
    "y = coffee_ml['Reviews']\n",
    "X_train, X_test, y_train, y_test = train_test_split(X, y, test_size = 0.3,random_state=SEED)"
   ]
  },
  {
   "cell_type": "code",
   "execution_count": 44,
   "metadata": {},
   "outputs": [
    {
     "data": {
      "text/html": [
       "<style>#sk-container-id-1 {color: black;background-color: white;}#sk-container-id-1 pre{padding: 0;}#sk-container-id-1 div.sk-toggleable {background-color: white;}#sk-container-id-1 label.sk-toggleable__label {cursor: pointer;display: block;width: 100%;margin-bottom: 0;padding: 0.3em;box-sizing: border-box;text-align: center;}#sk-container-id-1 label.sk-toggleable__label-arrow:before {content: \"▸\";float: left;margin-right: 0.25em;color: #696969;}#sk-container-id-1 label.sk-toggleable__label-arrow:hover:before {color: black;}#sk-container-id-1 div.sk-estimator:hover label.sk-toggleable__label-arrow:before {color: black;}#sk-container-id-1 div.sk-toggleable__content {max-height: 0;max-width: 0;overflow: hidden;text-align: left;background-color: #f0f8ff;}#sk-container-id-1 div.sk-toggleable__content pre {margin: 0.2em;color: black;border-radius: 0.25em;background-color: #f0f8ff;}#sk-container-id-1 input.sk-toggleable__control:checked~div.sk-toggleable__content {max-height: 200px;max-width: 100%;overflow: auto;}#sk-container-id-1 input.sk-toggleable__control:checked~label.sk-toggleable__label-arrow:before {content: \"▾\";}#sk-container-id-1 div.sk-estimator input.sk-toggleable__control:checked~label.sk-toggleable__label {background-color: #d4ebff;}#sk-container-id-1 div.sk-label input.sk-toggleable__control:checked~label.sk-toggleable__label {background-color: #d4ebff;}#sk-container-id-1 input.sk-hidden--visually {border: 0;clip: rect(1px 1px 1px 1px);clip: rect(1px, 1px, 1px, 1px);height: 1px;margin: -1px;overflow: hidden;padding: 0;position: absolute;width: 1px;}#sk-container-id-1 div.sk-estimator {font-family: monospace;background-color: #f0f8ff;border: 1px dotted black;border-radius: 0.25em;box-sizing: border-box;margin-bottom: 0.5em;}#sk-container-id-1 div.sk-estimator:hover {background-color: #d4ebff;}#sk-container-id-1 div.sk-parallel-item::after {content: \"\";width: 100%;border-bottom: 1px solid gray;flex-grow: 1;}#sk-container-id-1 div.sk-label:hover label.sk-toggleable__label {background-color: #d4ebff;}#sk-container-id-1 div.sk-serial::before {content: \"\";position: absolute;border-left: 1px solid gray;box-sizing: border-box;top: 0;bottom: 0;left: 50%;z-index: 0;}#sk-container-id-1 div.sk-serial {display: flex;flex-direction: column;align-items: center;background-color: white;padding-right: 0.2em;padding-left: 0.2em;position: relative;}#sk-container-id-1 div.sk-item {position: relative;z-index: 1;}#sk-container-id-1 div.sk-parallel {display: flex;align-items: stretch;justify-content: center;background-color: white;position: relative;}#sk-container-id-1 div.sk-item::before, #sk-container-id-1 div.sk-parallel-item::before {content: \"\";position: absolute;border-left: 1px solid gray;box-sizing: border-box;top: 0;bottom: 0;left: 50%;z-index: -1;}#sk-container-id-1 div.sk-parallel-item {display: flex;flex-direction: column;z-index: 1;position: relative;background-color: white;}#sk-container-id-1 div.sk-parallel-item:first-child::after {align-self: flex-end;width: 50%;}#sk-container-id-1 div.sk-parallel-item:last-child::after {align-self: flex-start;width: 50%;}#sk-container-id-1 div.sk-parallel-item:only-child::after {width: 0;}#sk-container-id-1 div.sk-dashed-wrapped {border: 1px dashed gray;margin: 0 0.4em 0.5em 0.4em;box-sizing: border-box;padding-bottom: 0.4em;background-color: white;}#sk-container-id-1 div.sk-label label {font-family: monospace;font-weight: bold;display: inline-block;line-height: 1.2em;}#sk-container-id-1 div.sk-label-container {text-align: center;}#sk-container-id-1 div.sk-container {/* jupyter's `normalize.less` sets `[hidden] { display: none; }` but bootstrap.min.css set `[hidden] { display: none !important; }` so we also need the `!important` here to be able to override the default hidden behavior on the sphinx rendered scikit-learn.org. See: https://github.com/scikit-learn/scikit-learn/issues/21755 */display: inline-block !important;position: relative;}#sk-container-id-1 div.sk-text-repr-fallback {display: none;}</style><div id=\"sk-container-id-1\" class=\"sk-top-container\"><div class=\"sk-text-repr-fallback\"><pre>LinearRegression(positive=True)</pre><b>In a Jupyter environment, please rerun this cell to show the HTML representation or trust the notebook. <br />On GitHub, the HTML representation is unable to render, please try loading this page with nbviewer.org.</b></div><div class=\"sk-container\" hidden><div class=\"sk-item\"><div class=\"sk-estimator sk-toggleable\"><input class=\"sk-toggleable__control sk-hidden--visually\" id=\"sk-estimator-id-1\" type=\"checkbox\" checked><label for=\"sk-estimator-id-1\" class=\"sk-toggleable__label sk-toggleable__label-arrow\">LinearRegression</label><div class=\"sk-toggleable__content\"><pre>LinearRegression(positive=True)</pre></div></div></div></div></div>"
      ],
      "text/plain": [
       "LinearRegression(positive=True)"
      ]
     },
     "execution_count": 44,
     "metadata": {},
     "output_type": "execute_result"
    },
    {
     "data": {
      "text/plain": [
       "-2.5021864692456006"
      ]
     },
     "execution_count": 44,
     "metadata": {},
     "output_type": "execute_result"
    },
    {
     "data": {
      "text/html": [
       "<style>#sk-container-id-2 {color: black;background-color: white;}#sk-container-id-2 pre{padding: 0;}#sk-container-id-2 div.sk-toggleable {background-color: white;}#sk-container-id-2 label.sk-toggleable__label {cursor: pointer;display: block;width: 100%;margin-bottom: 0;padding: 0.3em;box-sizing: border-box;text-align: center;}#sk-container-id-2 label.sk-toggleable__label-arrow:before {content: \"▸\";float: left;margin-right: 0.25em;color: #696969;}#sk-container-id-2 label.sk-toggleable__label-arrow:hover:before {color: black;}#sk-container-id-2 div.sk-estimator:hover label.sk-toggleable__label-arrow:before {color: black;}#sk-container-id-2 div.sk-toggleable__content {max-height: 0;max-width: 0;overflow: hidden;text-align: left;background-color: #f0f8ff;}#sk-container-id-2 div.sk-toggleable__content pre {margin: 0.2em;color: black;border-radius: 0.25em;background-color: #f0f8ff;}#sk-container-id-2 input.sk-toggleable__control:checked~div.sk-toggleable__content {max-height: 200px;max-width: 100%;overflow: auto;}#sk-container-id-2 input.sk-toggleable__control:checked~label.sk-toggleable__label-arrow:before {content: \"▾\";}#sk-container-id-2 div.sk-estimator input.sk-toggleable__control:checked~label.sk-toggleable__label {background-color: #d4ebff;}#sk-container-id-2 div.sk-label input.sk-toggleable__control:checked~label.sk-toggleable__label {background-color: #d4ebff;}#sk-container-id-2 input.sk-hidden--visually {border: 0;clip: rect(1px 1px 1px 1px);clip: rect(1px, 1px, 1px, 1px);height: 1px;margin: -1px;overflow: hidden;padding: 0;position: absolute;width: 1px;}#sk-container-id-2 div.sk-estimator {font-family: monospace;background-color: #f0f8ff;border: 1px dotted black;border-radius: 0.25em;box-sizing: border-box;margin-bottom: 0.5em;}#sk-container-id-2 div.sk-estimator:hover {background-color: #d4ebff;}#sk-container-id-2 div.sk-parallel-item::after {content: \"\";width: 100%;border-bottom: 1px solid gray;flex-grow: 1;}#sk-container-id-2 div.sk-label:hover label.sk-toggleable__label {background-color: #d4ebff;}#sk-container-id-2 div.sk-serial::before {content: \"\";position: absolute;border-left: 1px solid gray;box-sizing: border-box;top: 0;bottom: 0;left: 50%;z-index: 0;}#sk-container-id-2 div.sk-serial {display: flex;flex-direction: column;align-items: center;background-color: white;padding-right: 0.2em;padding-left: 0.2em;position: relative;}#sk-container-id-2 div.sk-item {position: relative;z-index: 1;}#sk-container-id-2 div.sk-parallel {display: flex;align-items: stretch;justify-content: center;background-color: white;position: relative;}#sk-container-id-2 div.sk-item::before, #sk-container-id-2 div.sk-parallel-item::before {content: \"\";position: absolute;border-left: 1px solid gray;box-sizing: border-box;top: 0;bottom: 0;left: 50%;z-index: -1;}#sk-container-id-2 div.sk-parallel-item {display: flex;flex-direction: column;z-index: 1;position: relative;background-color: white;}#sk-container-id-2 div.sk-parallel-item:first-child::after {align-self: flex-end;width: 50%;}#sk-container-id-2 div.sk-parallel-item:last-child::after {align-self: flex-start;width: 50%;}#sk-container-id-2 div.sk-parallel-item:only-child::after {width: 0;}#sk-container-id-2 div.sk-dashed-wrapped {border: 1px dashed gray;margin: 0 0.4em 0.5em 0.4em;box-sizing: border-box;padding-bottom: 0.4em;background-color: white;}#sk-container-id-2 div.sk-label label {font-family: monospace;font-weight: bold;display: inline-block;line-height: 1.2em;}#sk-container-id-2 div.sk-label-container {text-align: center;}#sk-container-id-2 div.sk-container {/* jupyter's `normalize.less` sets `[hidden] { display: none; }` but bootstrap.min.css set `[hidden] { display: none !important; }` so we also need the `!important` here to be able to override the default hidden behavior on the sphinx rendered scikit-learn.org. See: https://github.com/scikit-learn/scikit-learn/issues/21755 */display: inline-block !important;position: relative;}#sk-container-id-2 div.sk-text-repr-fallback {display: none;}</style><div id=\"sk-container-id-2\" class=\"sk-top-container\"><div class=\"sk-text-repr-fallback\"><pre>Ridge()</pre><b>In a Jupyter environment, please rerun this cell to show the HTML representation or trust the notebook. <br />On GitHub, the HTML representation is unable to render, please try loading this page with nbviewer.org.</b></div><div class=\"sk-container\" hidden><div class=\"sk-item\"><div class=\"sk-estimator sk-toggleable\"><input class=\"sk-toggleable__control sk-hidden--visually\" id=\"sk-estimator-id-2\" type=\"checkbox\" checked><label for=\"sk-estimator-id-2\" class=\"sk-toggleable__label sk-toggleable__label-arrow\">Ridge</label><div class=\"sk-toggleable__content\"><pre>Ridge()</pre></div></div></div></div></div>"
      ],
      "text/plain": [
       "Ridge()"
      ]
     },
     "execution_count": 44,
     "metadata": {},
     "output_type": "execute_result"
    },
    {
     "data": {
      "text/plain": [
       "-2.1934006375611945"
      ]
     },
     "execution_count": 44,
     "metadata": {},
     "output_type": "execute_result"
    }
   ],
   "source": [
    "linreg = LinearRegression(positive=True)\n",
    "linreg.fit(X_train, y_train)\n",
    "y_pred = linreg.predict(X_test)\n",
    "linreg.score(X_test,y_test)\n",
    "y_pred = linreg.predict(X_test)\n",
    "# linreg.score(y_pred,y_test)\n",
    "ridge = Ridge()\n",
    "ridge.fit(X_train,y_train)\n",
    "ridge.score(X_test,y_test)"
   ]
  },
  {
   "cell_type": "code",
   "execution_count": 45,
   "metadata": {},
   "outputs": [],
   "source": [
    "def find_best_model(X,y):\n",
    "    params_gd = {\n",
    "        'linear_regression':{\n",
    "            'model':LinearRegression(),\n",
    "            'params': {\n",
    "                'fit_intercept':[True,False],\n",
    "                'positive':[True,False]\n",
    "            }\n",
    "        },\n",
    "        'lasso':{\n",
    "            'model':Lasso(),\n",
    "            'params': {\n",
    "                'alpha':[1,2,5,10],\n",
    "                'selection':['random','cyclic'],\n",
    "                'positive':[True,False],\n",
    "                'max_iter':[1000,2000],\n",
    "                'fit_intercept':[True,False]\n",
    "            }\n",
    "        },\n",
    "        'dct':{\n",
    "            'model':DecisionTreeRegressor(),\n",
    "            'params':{\n",
    "                'criterion':['absolute_error','friedman_mse'],\n",
    "                'splitter':['best','random'],\n",
    "                'max_depth':[None,1,6,10],\n",
    "                'min_samples_leaf':[1,0.8,0.5,0.2]\n",
    "            }\n",
    "        }\n",
    "    }\n",
    "\n",
    "    scores = []\n",
    "    cv = KFold(n_splits=5, random_state = SEED, shuffle=True)\n",
    "    for model_name, model_cofig in params_gd.items():\n",
    "        gs = GridSearchCV(model_cofig['model'], model_cofig['params'],cv=cv,return_train_score=False, n_jobs=-1)\n",
    "        gs.fit(X,y)\n",
    "        scores.append({\n",
    "            'model':model_name,\n",
    "            'best_score': gs.best_score_,\n",
    "            'best_params':gs.best_params_\n",
    "            })\n",
    "    return pd.DataFrame(scores)\n"
   ]
  },
  {
   "cell_type": "code",
   "execution_count": 46,
   "metadata": {},
   "outputs": [
    {
     "data": {
      "text/html": [
       "<div>\n",
       "<style scoped>\n",
       "    .dataframe tbody tr th:only-of-type {\n",
       "        vertical-align: middle;\n",
       "    }\n",
       "\n",
       "    .dataframe tbody tr th {\n",
       "        vertical-align: top;\n",
       "    }\n",
       "\n",
       "    .dataframe thead th {\n",
       "        text-align: right;\n",
       "    }\n",
       "</style>\n",
       "<table border=\"1\" class=\"dataframe\">\n",
       "  <thead>\n",
       "    <tr style=\"text-align: right;\">\n",
       "      <th></th>\n",
       "      <th>model</th>\n",
       "      <th>best_score</th>\n",
       "      <th>best_params</th>\n",
       "    </tr>\n",
       "  </thead>\n",
       "  <tbody>\n",
       "    <tr>\n",
       "      <th>0</th>\n",
       "      <td>linear_regression</td>\n",
       "      <td>-0.47723</td>\n",
       "      <td>{'fit_intercept': False, 'positive': True}</td>\n",
       "    </tr>\n",
       "    <tr>\n",
       "      <th>1</th>\n",
       "      <td>lasso</td>\n",
       "      <td>-0.37459</td>\n",
       "      <td>{'alpha': 10, 'fit_intercept': False, 'max_iter': 1000, 'positive': True, 'selection': 'cyclic'}</td>\n",
       "    </tr>\n",
       "    <tr>\n",
       "      <th>2</th>\n",
       "      <td>dct</td>\n",
       "      <td>0.09914</td>\n",
       "      <td>{'criterion': 'absolute_error', 'max_depth': None, 'min_samples_leaf': 0.2, 'splitter': 'best'}</td>\n",
       "    </tr>\n",
       "  </tbody>\n",
       "</table>\n",
       "</div>"
      ],
      "text/plain": [
       "               model  best_score   \n",
       "0  linear_regression    -0.47723  \\\n",
       "1              lasso    -0.37459   \n",
       "2                dct     0.09914   \n",
       "\n",
       "                                                                                        best_params  \n",
       "0                                                        {'fit_intercept': False, 'positive': True}  \n",
       "1  {'alpha': 10, 'fit_intercept': False, 'max_iter': 1000, 'positive': True, 'selection': 'cyclic'}  \n",
       "2   {'criterion': 'absolute_error', 'max_depth': None, 'min_samples_leaf': 0.2, 'splitter': 'best'}  "
      ]
     },
     "execution_count": 46,
     "metadata": {},
     "output_type": "execute_result"
    }
   ],
   "source": [
    "find_best_model(X,y)"
   ]
  },
  {
   "cell_type": "code",
   "execution_count": null,
   "metadata": {},
   "outputs": [],
   "source": []
  }
 ],
 "metadata": {
  "kernelspec": {
   "display_name": "minimal_ds",
   "language": "python",
   "name": "python3"
  },
  "language_info": {
   "codemirror_mode": {
    "name": "ipython",
    "version": 3
   },
   "file_extension": ".py",
   "mimetype": "text/x-python",
   "name": "python",
   "nbconvert_exporter": "python",
   "pygments_lexer": "ipython3",
   "version": "3.10.11"
  },
  "orig_nbformat": 4,
  "vscode": {
   "interpreter": {
    "hash": "9d25ef4fb8b2a47847974b832a1c39fb7a5e76c2790e47bc619a513a963887a1"
   }
  }
 },
 "nbformat": 4,
 "nbformat_minor": 2
}
